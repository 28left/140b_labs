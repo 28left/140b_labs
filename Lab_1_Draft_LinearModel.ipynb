{
 "cells": [
  {
   "cell_type": "markdown",
   "metadata": {
    "id": "VuQDF0XeOdOo"
   },
   "source": [
    "# Linear Model: Mortality and Air Pollution\n",
    "\n",
    "## Overview\n",
    "\n",
    "In this lab you will build and analuze a linear model relating PM2.5 exposure with excess death rate attributed to outdoor air pollution.\n",
    "\n",
    "### Learning Objectives\n",
    "\n",
    "\n",
    "*   Use software to compute a linear regression given data on PM2.5 exposure and excess deaths attributed to air pollution.\n",
    "*   Determine the units of a slope in a linear model.\n",
    "*   Use a slope in a model to create a description of proportional change.\n",
    "*   Compute the output of a linear function for a given input and interpret the meaning of the result in the context of an application.\n",
    "*   Use a slope to compute and reason about a proportional change.\n",
    "*   Use a linear model to draw appropriate conclusions in an application and summarize the result in words.\n",
    "\n",
    "## Introduction\n",
    "\n",
    "Particulate matter (PM) is a constituent of outdoor (ambient) air\n",
    "pollution. $\\text{PM}_{2.5}$ refers to fine particulate matter with\n",
    "particles having diameters less than 2.5 microns. This is about 30 times smaller than the diameter of a human hair; these are inhalable particles that are harmful to human health.  See the article Burden of Cause-Specific Mortality Associated With PM2.5 Air Pollution in the United States by Bowe B, Xie Y, Yan Y, Al-Aly Z<a name=\"cite_ref-3\"></a>[<sup>[3]</sup>](#cite_note-3) for more details.  \n",
    "\n",
    "\n",
    "Exposure to $\\text{PM}_{2.5}$ varies by country. An interactive scatter plot of the death rates from particular matter air pollution vs. $\\text{PM}_{2.5}$ concentration from 2019 is shown below, it is also available at https://ourworldindata.org/grapher/eath-rate-from-pm25-vs-pm25-concentration. The EPA maintains a [page](https://www.epa.gov/pm-pollution), with more resources on particulate matter pollution.  \n",
    "\n",
    "\n",
    "Let us define variables for the model:\n",
    "\n",
    "*   Let $R$ denote the annual death rate due to outdoor air pollution. The\n",
    "  variable $R$ has the units ``deaths per 100,000 people.'' For\n",
    "  example, if $R=15$ this means that, in a given year, there are 15\n",
    "  deaths for every 100,000 people in the population.   \n",
    "*   Let $x$ denote the mean annual exposure to  $\\text{PM}_{2.5}$. The variable\n",
    "  $x$ has the units ``micrograms per cubic meter'' ($\\mu\\text{g}/\\text{m}^3$).\n",
    "\n",
    "An interactive scatter plot of the death rates from particular matter air pollution vs. $\\text{PM}_{2.5}$ concentration from 2019 is shown below, it is also available at https://ourworldindata.org/grapher/eath-rate-from-pm25-vs-pm25-concentration The EPA maintains a [page](https://www.epa.gov/pm-pollution), with more resources on particulate matter pollution.  Below the interactive scatter plot, is another non-interactive scatter plot with the data from 2020.  \n",
    "\n"
   ]
  },
  {
   "cell_type": "markdown",
   "metadata": {
    "id": "9qAWsxhQISfU"
   },
   "source": [
    "## **1. Discuss with Your Group:**\n",
    "\n",
    "- [ ]  View the data in the scatter plot below and discuss with your group: Try to describe in words how the death rate from air pollution varies with the exposure to PM2.5 particulate pollution.\n",
    "\n",
    "\n",
    "\n"
   ]
  },
  {
   "cell_type": "code",
   "execution_count": 1,
   "metadata": {
    "colab": {
     "base_uri": "https://localhost:8080/",
     "height": 621
    },
    "executionInfo": {
     "elapsed": 21,
     "status": "ok",
     "timestamp": 1752586986750,
     "user": {
      "displayName": "Jan Reimann",
      "userId": "06287181284654454928"
     },
     "user_tz": 240
    },
    "id": "sUcJR6he6TOX",
    "outputId": "e0cfda76-05d1-4b72-fc90-7fb69682bac4"
   },
   "outputs": [
    {
     "data": {
      "text/html": [
       "\n",
       "        <iframe\n",
       "            width=\"100%\"\n",
       "            height=\"600px\"\n",
       "            src=\"https://archive.ourworldindata.org/20250624-125417/grapher/death-rate-from-pm25-vs-pm25-concentration.html\"\n",
       "            frameborder=\"0\"\n",
       "            allowfullscreen\n",
       "            \n",
       "        ></iframe>\n",
       "        "
      ],
      "text/plain": [
       "<IPython.lib.display.IFrame at 0x10683b230>"
      ]
     },
     "execution_count": 1,
     "metadata": {},
     "output_type": "execute_result"
    }
   ],
   "source": [
    "#@title Death Rate From Particular Matter Air Pollution vs PM2.5 Concentration, 2019\n",
    "from IPython.display import IFrame\n",
    "IFrame(src=\"https://archive.ourworldindata.org/20250624-125417/grapher/death-rate-from-pm25-vs-pm25-concentration.html\",width=\"100%\", height=\"600px\")"
   ]
  },
  {
   "cell_type": "markdown",
   "metadata": {
    "id": "szyXqlR-LIu9"
   },
   "source": [
    "## Creating a Linear Model\n",
    "\n",
    "We've created a second scatter plot with data from 2020 along with a best fit line. The best fit line is the line that models the data as a linear model. We can think of this linear model as quantitative summary of the relationship between exosure to PM2.5 pollution and the mortality rate attributed to air pollution.\n",
    "\n"
   ]
  },
  {
   "cell_type": "code",
   "execution_count": 2,
   "metadata": {
    "colab": {
     "base_uri": "https://localhost:8080/",
     "height": 621
    },
    "executionInfo": {
     "elapsed": 24,
     "status": "ok",
     "timestamp": 1752516142510,
     "user": {
      "displayName": "Russ deForest",
      "userId": "05318002848817648743"
     },
     "user_tz": 240
    },
    "id": "tiXTzfIwYu4F",
    "outputId": "1797b2d9-03b0-432f-f266-53bc4811eeda"
   },
   "outputs": [
    {
     "data": {
      "text/html": [
       "\n",
       "        <iframe\n",
       "            width=\"100%\"\n",
       "            height=\"600px\"\n",
       "            src=\"https://www.desmos.com/calculator/t7nctlbyh4?embed\"\n",
       "            frameborder=\"0\"\n",
       "            allowfullscreen\n",
       "            \n",
       "        ></iframe>\n",
       "        "
      ],
      "text/plain": [
       "<IPython.lib.display.IFrame at 0x106858e10>"
      ]
     },
     "execution_count": 2,
     "metadata": {},
     "output_type": "execute_result"
    }
   ],
   "source": [
    "# @title Desmos Scatter Plot and Best Fit Line\n",
    "from IPython.display import IFrame\n",
    "IFrame(src=\"https://www.desmos.com/calculator/t7nctlbyh4?embed\", width=\"100%\", height=\"600px\")"
   ]
  },
  {
   "cell_type": "code",
   "execution_count": 3,
   "metadata": {
    "colab": {
     "base_uri": "https://localhost:8080/",
     "height": 508,
     "referenced_widgets": [
      "ece494bf7d604a7e872f8342bce8846c",
      "723edc5361e84c0b85a5ab00f96e09e9",
      "316bdd0f0e7e4378ac4a48a7cce18cd0",
      "866ce0464e264192adeb7f4c5f3524c5",
      "a29c6e2648c34de29dd9a0a2b7fd54fc",
      "b2f96f05be0f49ebb03982fc6de44875",
      "19c441bad5a448cc83057e83a181712c"
     ]
    },
    "executionInfo": {
     "elapsed": 589,
     "status": "ok",
     "timestamp": 1752587030708,
     "user": {
      "displayName": "Jan Reimann",
      "userId": "06287181284654454928"
     },
     "user_tz": 240
    },
    "id": "QTEckwLk8prE",
    "outputId": "deef99ec-a3c7-4b17-a803-4d69a648dc1d"
   },
   "outputs": [
    {
     "data": {
      "application/vnd.jupyter.widget-view+json": {
       "model_id": "6de56dc4848947e18a07946f147f92d1",
       "version_major": 2,
       "version_minor": 0
      },
      "text/plain": [
       "interactive(children=(Checkbox(value=True, description='Best Fit Line'), Output()), _dom_classes=('widget-inte…"
      ]
     },
     "metadata": {},
     "output_type": "display_data"
    }
   ],
   "source": [
    "# @title Python Code for finding and plotting best fit line\n",
    "import matplotlib.pyplot as plt\n",
    "import numpy as np\n",
    "from ipywidgets import interact\n",
    "import ipywidgets as widgets\n",
    "\n",
    "\n",
    "def FindBestFitLine(showbestfitline):\n",
    "  datax = [46.09,15.71,25.55,6.72,9.08,25.15,19.7,14.91,30.58,8.25,10.93,21.73,18.94,58.5,42.38,23.73,14.61,11.22,28.65,51.05,7.34,23.95,22.88,26.60,18.91,12.18,7.6,17.15,58.47,29.65,24.14,39.81,6.57,42.32,34.43,49.14,23.28,34.81,14.18,11.93,28.57,14.31,49.50,16.12,21.24,13.51,14.11,26.65,9.07,35.92,20.67,19.83,17.41,16.66,54.86,20.03,35.38,32.35,6.15,18.78,27.31,12.42,4.9,9.6,29.95,58.36,17.04,10.29,54.24,14.41,6.56,24.66,9.58,21.64,43.77,50.21,25.46,21.35,20.31,14.14,5.11,48.39,17.88,32.29,38.18,8.17,18.60,14.66,17.41,12.84,28.77,20.03,24.39,11.26,53.72,24.38,22.32,11.6,19.23,23.44,42.36,32.97,9.22,8.67,12.75,23.7,16.19,12.01,56.78,11.72,10.73,70.82,9.15,14.99,12.11,14.76,9.58,29.65,17.98,21.32,20.08,32.32,19.99,6.06,45.72,10.89,6.49,16.81,85.12,56.53,29.93,26.12,9.71,6.06,39.58,43,7.033,26.36,11.47,17.31,10.09,27.04,20.29,17.96,8.45,7.19,75.66,14.85,11.27,31.29,8.59,23.76,23.93,12.55,10.69,27.34,53.15,63.74,22.51,8.5,43.22,13.87,15.39,14.29,13.95,24.53,23.75,25.94,30.74,9.58,19.96,45.83,27.31,5.64,9.06,24.71,37.05,25.08,31.01,51.67,12.48,25.60,24.18,21.61,19.6,5.92,33.81,14.9,36.31,9.91,7.81,8.63,10.57,31.96,14.08,15.26,20.80,34.83,24.31,19.49]\n",
    "  dataR = [37,48.4,89.2,23.5,7.6,69.8,43.7,30.6,92.0,6.6,13.7,100.9,36.7,148,31.4,48.6,63.8,12.,49.1,37.3,6.8,66.3,48.4,72,62.5,22.5,14.6,69,35.7,15.2,38.5,45.7,4.9,94.2,28.5,42.1,26.4,99.1,22.6,10.1,70.4,18.1,62,39.2,47.3,27,32.7,19.1,10.7,71.7,58.0,55.0,44.7,30.8,236.5,35.9,118.5,31,5.4,74.1,14.9,70.8,2.1,7.8,107.1,50.2,52.6,12.7,78.2,24.8,10.6,71.1,17.6,38.1,39.1,51.7,87.7,24.4,41.5,39.5,2.3,82.1,64.6,73.0,152.8,8.4,19.3,16.0,35.0,9.8,58,89.5,22,17.6,76.3,54.8,62.1,30.5,41.5,44.2,27.8,94.6,22.1,8.1,11.5,14.9,50.2,23.2,37.3,14.6,39.1,81.3,22.9,36.7,38.3,36.8,12.7,91.8,82.7,91.5,15.4,78.7,73.6,34.8,54.6,12.8,4.9,16.1,38.7,65.8,29.9,120.5,28.3,3.4,115.9,77.2,29.5,87.1,16.5,35.7,22.0,37.2,57.1,41.2,8.8,7.1,108.2,45.3,36.7,13.7,20.8,48.9,64.0,38.6,6.5,49.5,132.1,38.1,82.2,17.2,32.5,15.8,44.7,17.7,23,15.8,68.6,27.7,25.6,8.9,46.1,90.9,68.7,3.0,7.0,121.8,65.2,20.7,51.1,41.8,32.4,65.1,67.9,65,103.7,12.6,21,67.7,112.3,11.5,9.5,13,16.8,125.9,25.9,42,51.3,82.4,35.1,24.3]\n",
    "\n",
    "  m, b = np.polyfit(datax, dataR, 1) #This line determiens the lope and intercept for the best fit line through the given data.\n",
    "  best_fit_line_x_values=range(5,85) #This line creates an array of x values from 0 to 89, to assist in graph the best fit line\n",
    "  best_fit_line_y_values = m * best_fit_line_x_values + b #This line creates an array of y values for the x values found in the line above\n",
    "    \n",
    "  plt.xlabel(\"PM2.5 air pollution, mean annual exposure ($\\\\mu$g/m^3)\")\n",
    "  plt.ylabel(\"Death rate from outdoor particulate matter air pollution (deaths per 100,000 people)\")\n",
    "  plt.title(\"Death rate from outdoor particulate matter vs. PM2.5 concentration, 2020\")\n",
    "  plt.scatter(datax, dataR, color='blue', label='Data Points') #This line graphs the data as a scatter plot\n",
    "  if(showbestfitline):\n",
    "    plt.plot(best_fit_line_x_values, best_fit_line_y_values, color='red', label=f'Best-Fit Line: R = {m:.2f}x + {b:.2f}') #This line plosts all the x and y values for the best fine line as points and connects them with linesegments to graph the best fit line\n",
    "  plt.legend()\n",
    "  plt.show()\n",
    "\n",
    "\n",
    "\n",
    "interact(FindBestFitLine,\n",
    "         showbestfitline=widgets.Checkbox(value=True, description='Best Fit Line'),\n",
    "          );"
   ]
  },
  {
   "cell_type": "markdown",
   "metadata": {
    "id": "a2neVX746T_a"
   },
   "source": [
    "**Note:** If you right click on any code block and select _explain code_  this  will generate an AI explanation of the code.  We encourage you to use that throughout the semester to get a better understanding of what is going on behind the scenes.\n",
    "\n",
    "## Background on the Best Fit Line\n",
    "\n",
    "The best fit line is the line that models the data as a linear model.  It is typically found by using linear regression using the least squares method.  It is the line that minimizes the difference between the observed values and the model predicted values. The difference between observed values and the model predictions are often called residuals.  The residual is the length of the vertical line segment from a data point to the line, shown below.  The best fit line is the one that would minimize the sum of the squares of all the residuals. Finding a best-fit line is an **optimization problem** and an application of Calculus techniques we will learn in Math 140B.\n",
    "\n",
    "<!-- ![bestfitlineR.png](bestfitlineR.png) -->\n",
    "\n",
    "\n",
    "## Our Linear Model\n",
    "\n",
    "Let us define variables for our linear model:\n",
    "\n",
    "*   Let $R$ denote the annual death rate due attributed to air pollution. The\n",
    "  variable $R$ has the units ``deaths per 100,000 people.'' For\n",
    "  example, if $R=15$ this means that, in a given year, there are 15\n",
    "  deaths for every 100,000 people in the population.   \n",
    "*   Let $x$ denote the mean annual exposure to  $\\text{PM}_{2.5}$. The variable\n",
    "  $x$ has the units ``micrograms per cubic meter'' ($\\mu\\text{g}/\\text{m}^3$).\n",
    "\n",
    "\n",
    "Based on available data the best linear model relating exposure to $\\text{PM}_{2.5}$ and the Death rate from outdoor partiulate matter is $R(x)=1.22x+16.88$.  \n",
    "\n",
    "\n",
    "1. The World Health Organization guidelines recommend $\\text{PM}_{2.5}$ exposures of 5$\\mu\\text{g}/\\text{m}^3$ or less<a name=\"cite_ref-1\"></a>[<sup>[1]</sup>](#cite_note-1). Rewrite the fromula for $R(x)$ in point slope form using using an $x$ value of 5 $\\mu\\text{g}/\\text{m}^3$.\n",
    "\n",
    "2. Determine the units of the slope and explain what the slope represents.\n",
    "   \n",
    "3. Use your model to compute $R(50)$ and write a one-sentence\n",
    "   interpretation of this result. Your interpretation should be in the\n",
    "   context of the application and should include units.  \n",
    "\n",
    "4. Since the passage of The Clean Air Act<a name=\"cite_ref-2\"></a>[<sup>[2]</sup>](#cite_note-2), the mean annual\n",
    "   exposure to $\\text{PM}_{2.5}$ in the U.S. has fallen from 33.5 $\\mu\\text{g}/\\text{m}^3$ to 7.1$\\mu\\text{g}/\\text{m}^3$. Use this change in exposure to estimate the avoided deaths per year, based on the U.S. population. You'll need to use an estimate of the present U.S. population.\n",
    "\n",
    "5. Write a 1--2 sentence summary of the results of your analysis from part 7.\n",
    "\n",
    "6. Given that $R(x)=1.22x+16.88$ determine a formula for $R(x+\\Delta x)$.  Determine a formula for $\\Delta R=R(x+\\Delta x)-R(x)$ in term of $\\Delta x$.  That is find a formula for $\\Delta R(\\Delta x)$.\n",
    "\n",
    "7.  Use the formula found in part 6. to double check your answer from part 4.\n",
    "\n",
    "8.  The widget below will compute $\\Delta R$ values for given $\\Delta x$ values. Use the widget to explore the relationship between $\\Delta R$ and $\\Delta x$ and then Write a 1--2 sentence summary of the results of your analysis.\n",
    "\n"
   ]
  },
  {
   "cell_type": "markdown",
   "metadata": {
    "id": "R3TCJx2aQUuv"
   },
   "source": [
    "## **2. Point-Slope Form:**\n",
    "\n",
    "The World Health Organization guidelines recommend $\\text{PM}_{2.5}$ exposures of 5$\\mu\\text{g}/\\text{m}^3$ or less<a name=\"cite_ref-1\"></a>[<sup>[1]</sup>](#cite_note-1). Rewrite the fromula for $R(x)$ in point slope form using using an $x$ value of 5 $\\mu\\text{g}/\\text{m}^3$. You can use the interactive plot above to determine the value of $R$ when $x=5$ in the linear model."
   ]
  },
  {
   "cell_type": "markdown",
   "metadata": {
    "id": "So-6-IVPRQyJ"
   },
   "source": [
    "## **3. Units of the Slope and Proportional Change**\n",
    "\n",
    "Identify the slope in the linear model and determine the correct units of the slope. The slope in a linear model is a representation of proportional change. It tells us how a change in one variable is related to a change in the other. Use this idea to discuss the meaning of the slope in this particular example.\n",
    "\n"
   ]
  },
  {
   "cell_type": "markdown",
   "metadata": {
    "id": "uTAly3vjTXxw"
   },
   "source": [
    "## **4. Proportional Change**\n",
    "\n",
    "The slope in a linear model is a representation of proportional change. It tells us how a change in the dependent variable is related to a change in the independent variable. This relationship is reflected in the **slope formula**: \n",
    "\n",
    "$$m = \\frac{\\Delta R}{\\Delta x}$$\n",
    "\n",
    "Use algebra to rearrange the slope formula to determine the formula for $\\Delta R$ in terms of the slope and $\\Delta x$.\n",
    "\n",
    "Use your formula to discuss the meaning of the slope in this model with your group."
   ]
  },
  {
   "cell_type": "markdown",
   "metadata": {
    "id": "dzIPLijES8d7"
   },
   "source": [
    "## **5. Computation and Interpretation**\n",
    "\n",
    "Use the linear model to compute $R(50)$ and write a one-sentence\n",
    "   interpretation of this result. Your interpretation should be in the\n",
    "   context of the application and should include units.  "
   ]
  },
  {
   "cell_type": "markdown",
   "metadata": {
    "id": "PKaZvg9OVnXa"
   },
   "source": [
    "## **6. Using the slope to compute a Proportional Change**\n",
    "\n",
    "The widget below will compute $\\Delta R$ values for given $\\Delta x$ values. Use the widget to explore the relationship between $\\Delta R$ and $\\Delta x$ and then write a 1--2 sentence summary of the results of your analysis.\n"
   ]
  },
  {
   "cell_type": "code",
   "execution_count": null,
   "metadata": {
    "colab": {
     "base_uri": "https://localhost:8080/",
     "height": 71,
     "referenced_widgets": [
      "1f0143e6d3744edf91dbe599a12ee292",
      "708b9483eb3e494abbc87e3a7de5b2fa",
      "f1f4bda0f59a44f58f12e557f19de9cc",
      "9cc2faf7417d440fa094c691ad71e5ea",
      "5b8355b761044800ab0fae596bffce65",
      "4d2cfeab9c5b47beb2717fa73852766a",
      "c9e84b7468264c9d824579e26ba6b74f"
     ]
    },
    "executionInfo": {
     "elapsed": 3295,
     "status": "ok",
     "timestamp": 1752587097613,
     "user": {
      "displayName": "Jan Reimann",
      "userId": "06287181284654454928"
     },
     "user_tz": 240
    },
    "id": "iqA9oAZfrc1R",
    "outputId": "ac6c9c22-579a-4558-ec45-2c9fdb8a6715"
   },
   "outputs": [
    {
     "name": "stdout",
     "output_type": "stream",
     "text": [
      "-32.33\n"
     ]
    }
   ],
   "source": [
    "# @title Python Code to compute changes in death rate by change in PM2.5 exposure\n",
    "def DeltaR(z):\n",
    "    return z * 1.22\n",
    "\n",
    "Deltax = -26.4\n",
    "\n",
    "print(DeltaR(Deltax))"
   ]
  },
  {
   "cell_type": "markdown",
   "metadata": {
    "id": "CIzerb52V7t_"
   },
   "source": [
    "## **7. Applying the Model: California's above average exposure**\n",
    "\n",
    "The EPA estimates that the mean annual $\\text{PM}_{2.5}$ exposure in the U.S. is 8.6 $\\mu\\text{g}/\\text{m}^3$ <a name=\"cite_ref-5\"></a>[<sup>[5]</sup>](#cite_note-4) but there is variation in exposure by geographic region. The mean annual $\\text{PM}_{2.5}$ exposure in California is estimated to be 12.7 $\\mu\\text{g}/\\text{m}^3$, partly due the prevalence of wildfires.\n",
    "\n",
    "The population of California is approximately 39 million people. Estimate the excess deaths in California due to the higher $\\text{PM}_{2.5}$ relative to the U.S. average of 8.6 $\\mu\\text{g}/\\text{m}^3$."
   ]
  },
  {
   "cell_type": "markdown",
   "metadata": {
    "id": "WKuBHtmHciAX"
   },
   "source": [
    "## **8. Applying the Model: PM2.5 Exposure in India**:\n",
    "\n",
    "According to the data at https://ourworldindata.org/grapher/average-exposure-pm25-pollution India had an average $\\text{PM}_{2.5}$ exposure of 62 $\\mu\\text{g}/\\text{m}^3$ in 1990 and 48.39 $\\mu\\text{g}/\\text{m}^3$ in 2020.  The population of the India was 1.4 billion in 2020.  Estimate the **avoided** $\\text{PM}_{2.5}$ related deaths in 2020 in India due to the decrease in PM2.5 exposure.\n",
    "\n",
    "  More details about the impact of air pollution $\\text{PM}_{2.5}$ in India can be found in the article by Chatterjee, McDuffie, Smith, Et al.<a name=\"cite_ref-4\"></a>[<sup>[4]</sup>](#cite_note-4).  This study found that cooking indoors with solid fuels contributed the largest share of air pollution related mortality.\n",
    "\n"
   ]
  },
  {
   "cell_type": "markdown",
   "metadata": {
    "id": "RoKOE9cbUBXm"
   },
   "source": [
    "<a name=\"cite_note-1\"></a>1. [^](#cite_ref-1)https://www.who.int/news-room/feature-stories/detail/what-are-the-who-air-quality-guidelines\n",
    "\n",
    "<a name=\"cite_note-2\"></a>2. [^](#cite_ref-2)https://www.epa.gov/clean-air-act-overview\n",
    "\n",
    "<a name=\"cite_note-3\"></a>3. [^](#cite_ref-3)Bowe B, Xie Y, Yan Y, Al-Aly Z. Burden of Cause-Specific Mortality Associated With PM2.5 Air Pollution in the United States. JAMA Netw Open. 2019;2(11):e1915834. doi:10.1001/jamanetworkopen.2019.15834 https://jamanetwork.com/journals/jamanetworkopen/fullarticle/2755672\n",
    "\n",
    "<a name=\"cite_note-4\"></a>4. [^](#cite_ref-4)Deepangsu Chatterjee, Erin E. McDuffie, Steven J. Smith, Liam Bindle, Aaron van Donkelaar, Melanie S. Hammer, Chandra Venkataraman, Michael Brauer, and Randall V. Martin\n",
    "Environmental Science & Technology 2023 57 (28), 10263-10275\n",
    "DOI: 10.1021/acs.est.2c07641 https://pubs.acs.org/doi/10.1021/acs.est.2c07641\n",
    "\n",
    "<a name=\"cite_note-5\"></a>5. [^](#cite_ref-5) America's Health Rankings analysis of U.S. Environmental Protection Agency, United Health Foundation, AmericasHealthRankings.org, accessed 2025. https://www.americashealthrankings.org/explore/measures/air"
   ]
  },
  {
   "cell_type": "code",
   "execution_count": null,
   "metadata": {
    "id": "RQfr29ZsZb3T"
   },
   "outputs": [],
   "source": []
  }
 ],
 "metadata": {
  "colab": {
   "provenance": [
    {
     "file_id": "1vbcHYK5uIpqPXslJm7XTUY91oEkLv9fI",
     "timestamp": 1752534676927
    },
    {
     "file_id": "1hRuqjERQB2TCfnM-dny4TvO_2d5K8gmB",
     "timestamp": 1752194151078
    }
   ]
  },
  "jupytext": {
   "formats": "ipynb,qmd"
  },
  "kernelspec": {
   "display_name": "140B",
   "language": "python",
   "name": "python3"
  },
  "language_info": {
   "codemirror_mode": {
    "name": "ipython",
    "version": 3
   },
   "file_extension": ".py",
   "mimetype": "text/x-python",
   "name": "python",
   "nbconvert_exporter": "python",
   "pygments_lexer": "ipython3",
   "version": "3.13.5"
  },
  "widgets": {
   "application/vnd.jupyter.widget-state+json": {
    "19c441bad5a448cc83057e83a181712c": {
     "model_module": "@jupyter-widgets/base",
     "model_module_version": "1.2.0",
     "model_name": "LayoutModel",
     "state": {
      "_model_module": "@jupyter-widgets/base",
      "_model_module_version": "1.2.0",
      "_model_name": "LayoutModel",
      "_view_count": null,
      "_view_module": "@jupyter-widgets/base",
      "_view_module_version": "1.2.0",
      "_view_name": "LayoutView",
      "align_content": null,
      "align_items": null,
      "align_self": null,
      "border": null,
      "bottom": null,
      "display": null,
      "flex": null,
      "flex_flow": null,
      "grid_area": null,
      "grid_auto_columns": null,
      "grid_auto_flow": null,
      "grid_auto_rows": null,
      "grid_column": null,
      "grid_gap": null,
      "grid_row": null,
      "grid_template_areas": null,
      "grid_template_columns": null,
      "grid_template_rows": null,
      "height": null,
      "justify_content": null,
      "justify_items": null,
      "left": null,
      "margin": null,
      "max_height": null,
      "max_width": null,
      "min_height": null,
      "min_width": null,
      "object_fit": null,
      "object_position": null,
      "order": null,
      "overflow": null,
      "overflow_x": null,
      "overflow_y": null,
      "padding": null,
      "right": null,
      "top": null,
      "visibility": null,
      "width": null
     }
    },
    "1f0143e6d3744edf91dbe599a12ee292": {
     "model_module": "@jupyter-widgets/controls",
     "model_module_version": "1.5.0",
     "model_name": "VBoxModel",
     "state": {
      "_dom_classes": [
       "widget-interact"
      ],
      "_model_module": "@jupyter-widgets/controls",
      "_model_module_version": "1.5.0",
      "_model_name": "VBoxModel",
      "_view_count": null,
      "_view_module": "@jupyter-widgets/controls",
      "_view_module_version": "1.5.0",
      "_view_name": "VBoxView",
      "box_style": "",
      "children": [
       "IPY_MODEL_708b9483eb3e494abbc87e3a7de5b2fa",
       "IPY_MODEL_f1f4bda0f59a44f58f12e557f19de9cc"
      ],
      "layout": "IPY_MODEL_9cc2faf7417d440fa094c691ad71e5ea"
     }
    },
    "316bdd0f0e7e4378ac4a48a7cce18cd0": {
     "model_module": "@jupyter-widgets/output",
     "model_module_version": "1.0.0",
     "model_name": "OutputModel",
     "state": {
      "_dom_classes": [],
      "_model_module": "@jupyter-widgets/output",
      "_model_module_version": "1.0.0",
      "_model_name": "OutputModel",
      "_view_count": null,
      "_view_module": "@jupyter-widgets/output",
      "_view_module_version": "1.0.0",
      "_view_name": "OutputView",
      "layout": "IPY_MODEL_19c441bad5a448cc83057e83a181712c",
      "msg_id": "",
      "outputs": [
       {
        "data": {
         "image/png": "iVBORw0KGgoAAAANSUhEUgAAAn4AAAHLCAYAAABWP5U7AAAAOnRFWHRTb2Z0d2FyZQBNYXRwbG90bGliIHZlcnNpb24zLjEwLjAsIGh0dHBzOi8vbWF0cGxvdGxpYi5vcmcvlHJYcgAAAAlwSFlzAAAPYQAAD2EBqD+naQAAum1JREFUeJzs3XdcVfX/B/DXZSMb2YKAE3HvlZF7C46cOVNz5W5YlqKZluXIrZVauRXRn6nlwPEtUzP3SgkXgagIiAu5vH9/nO6Fy933nrvg/Xw87kM559zz+dx53vcz3h8JEREM5Obmhj/++AM1a9ZUuf/ChQto1qwZcnNzDS2CMcYYY4yJRGJM4Ne5c2fk5+djw4YN8PPzU9j38OFDDBw4EPb29tizZ4/RFWWMMcYYY8YxKvC7e/cuOnXqhGvXrqFmzZoIDAwEANy/fx8XL15EdHQ09uzZg7CwMNEqzBhjjDHGDGNU4AcABQUF+OWXX/DHH38gPT0dABAUFISmTZuiXbt2sLOzE6WijDHGGGPMOEYHfowxxhhjzDaYvDnuzp07kEqlpi6GMcYYY4xpYfLALyIiAtHR0UhISDB1UYwxxhhjTAOTd/UePXoU//zzD/bv348tW7aYsijGGGOMMaYBj/FjjDHGGCslHMQ6UXZ2tsKsXi8vL7FOzRhjjDHGRGD0GL9vv/0W0dHR8PX1RXR0tML/v/vuOzHqqLM33ngDNWrUMGuZ5pKfn4/3338fYWFhsLOzQ1xcnKWrZPUiIiIwZMgQS1fDKpn6uRkyZAgiIiJMdn7GWMl25MgRSCQSHDlyxNJVKXH0CvzWrVsHiUQivzk6OmLkyJF48eIFxowZg5MnT+LSpUs4dOgQ4uLiMGHCBHz11VeiVvjff//FzJkzce7cOVHPK5bPP/8ciYmJop/3+++/x/z589GrVy+sX78ekyZNEr0Ma3blyhXMnDkTt27dsnRVbMbvv/+OmTNnIisry9JV0YupPkPmsnfvXsycOVNp+7NnzzBz5sxScSErep2ws7NDSEgI2rVrp/TYIyIiIJFI0KZNG5XnWbNmjfw8f/75p3z7oUOHMGzYMFSpUgVlypRBhQoVMHz4cKSlpelUv5kzZyrUUXZzcXEx+DGXVKb+7l2+fDnWrVtnknOL6fTp0xg3bhyqV68ONzc3lC9fHr1798bff/+t8virV6+iQ4cOcHd3h6+vLwYOHIgHDx4oHHPt2jW8//77qFOnDjw8PBAcHIzOnTsrvNeLSk1NRe/eveHt7Q1PT0/Exsbin3/+0f/BkB7Wrl1LAGjWrFn0448/kq+vL/Xt25fatWtHEomEwsPD6fz58/LjN2/eTGFhYfoUodXp06cJAK1du1ZpX0xMDFWvXl3U8vTl5uZGgwcPFv28ffr0oXLlyol+Xluxbds2AkBJSUk63yc8PNwkr4WtmD9/PgGglJQUpX0vXrygvLw8k5U9ePBgCg8PN+i+pvoMmcvYsWNJ1VfrgwcPCADNmDHD/JUyMwDUtm1b+vHHH+mHH36g+Ph4CgwMJIlEQnv37pUfFx4eTi4uLmRnZ0dpaWlK54mJiSEXFxcCQKdPn5Zvr1+/PkVGRtL7779Pa9asoWnTppGHhwcFBgaqPE9xM2bMIAC0YsUK+vHHH+W3jRs3ivMElCCGfPfqo3r16hQTE6O0XSqV0vPnz0kqlZqkXH317NmTgoKC6N1336U1a9bQ7NmzKTAwkNzc3OjixYsKx969e5f8/PyoYsWKtHjxYpozZw75+PhQ7dq16eXLl/LjpkyZQt7e3vT222/TqlWr6Msvv6SKFSuSvb09HThwQOGcT548ocqVK1NAQAB98cUXtGDBAgoLC6PQ0FB6+PChXo/FoDF+HTt2RIMGDTBixAh8+umnqFatGg4fPowuXbqgW7duuHr1KlxdXVGzZk08fPjQkCKsQkFBAfLy8qziV2BGRga8vb21Hpefn4+CggI4OTmZvlJMiTU8/0+fPoWbm5vGY5ydnc1UG2ZqurzellClShW89dZb8r+7d++OWrVqYdGiRejYsaN8e/PmzXH69Gls2bIFEyZMkG+/d+8ejh8/ju7du2PHjh0K516wYAFee+01hZWhOnTogJiYGCxduhSfffaZTnXs1auX0jrzzHBEhBcvXsDV1dXoc9nZ2VnFtVdm8uTJ2Lhxo8J3e58+fVCzZk3MmzcPP/30k3z7559/jqdPn+LMmTMoX748AKBRo0Zo27Yt1q1bh5EjRwIA+vXrh5kzZ8Ld3V1+32HDhqFatWqYOXOmQkv48uXLcePGDZw6dQoNGzYEIMRiNWrUwNdff43PP/9c9wejT5Qoa/GT/fJq0aIFDRo0iF69ekVERJ9//jkBoNWrV1N+fj4NGjSIXn/9dbp69Sr17NmTfHx8yNnZmerXr0+7du1SOPejR49oypQpVKNGDXJzcyMPDw/q0KEDnTt3Tn5MUlISAVC6yVr/ZC1+ly9fpjfeeINcXV0pJCSEvvjiC50eHwAaO3Ys/fTTTxQdHU0ODg60c+dOIhJaT5o2bUq+vr7k4uJC9erVo23btindv/itaMvFvXv3aOjQoRQQEEBOTk4UHR1N3333ncY6paSkqDxvUlKSfN/8+fNp4cKFVKFCBbKzs6OzZ88SEdGhQ4fotddeozJlypCXlxd169aNrly5onB+2S/f69ev04ABA8jT05P8/Pxo+vTpVFBQQHfu3KFu3brJf01/9dVXOj2Xr169olmzZlGFChXIycmJwsPDadq0afTixQul50xVC0jR1jrZ+07Vc0BEVFBQQLNnz6Zy5cqRq6srvfHGG3Tp0iWVLX7JycnUq1cv8vHxIVdXV2rcuDHt2bNHqfz79+/TsGHDKCAggJydnalWrVq0bt06la+NuudflaLvsSpVqpCzszPVq1ePjh49qnDcrVu3aPTo0VSlShVycXEhX19f6tWrl1Lrney5OXLkCI0ePZr8/f3J29tb/roWv8nur+q5efz4MU2cOJHCw8PJycmJypUrRwMHDqQHDx4olFW8DrLPZdEWAVUtfpb6DBV/7rdu3UrVqlUjFxcXatKkCV24cIGIiFauXEkVK1YkZ2dniomJUXqcx44do169elFYWBg5OTlRaGgoTZw4kZ49e6bwuNU976q2F33v6/I9qe71ViU9PZ3s7e1p5syZSvuuXbtGAGjJkiVERJSXl0czZ86kSpUqkbOzM/n6+lLz5s3p119/1em5LU72XBfn5+dHlStXlv8dHh5OnTt3piFDhlCjRo0Ujv3yyy+pbNmytHr1aqUWP3V8fX2pR48eWo+TfT4yMjIoOzubCgoKdHhUin788Udq2LAhubq6kre3N7Vo0YJ++eUXhWOWLVtG0dHR5OTkRMHBwTRmzBh6/PixwjH6XLeeP39OM2bMoMqVK5OzszMFBQVR9+7d6ebNm/JjpFIpLVy4kKKjo8nZ2ZkCAgJo5MiRlJmZqXAu2XN//PhxatiwITk7O1NkZCStX79efoy2717ZOfbv30/169cnZ2dnWrhwIRERff/999SyZUvy9/cnJycnqlatGi1fvlypDsXPLWv9U/W9QkS0detWqlevHrm4uFDZsmVpwIABdO/ePYVjBg8eTG5ubnTv3j2KjY0lNzc38vPzoylTplB+fr7K19NQ9erVo3r16ilsCwgIoDfffFPp2CpVqlDr1q21nrNHjx7k6+ursK1hw4bUsGFDpWPbtWtHFStW1KvORgV+58+fp6CgICpbtix1796d3nrrLQJAISEhVLZsWQoODqadO3eSl5cXRUdH0xdffEFLly6l119/nSQSCSUkJMjPffr0aapYsSJ9+OGHtGrVKpo1axaVK1eOvLy8KDU1lYiEL7JZs2YRABo5cqS8eT45OZmIhA9QSEgIhYWF0YQJE2j58uXUqlUrAqDQvaD2yQCoWrVq5O/vT/Hx8bRs2TL5RTw0NJTGjBlDS5cupQULFlCjRo0IgELQ8OOPP5KzszO1aNFCXrfff/9dXvfQ0FAKCwujWbNm0YoVK6hbt24EQP5BUSU3N5d+/PFHioqKotDQUPl509PT5ReT6OhoqlChAs2bN48WLlxIt2/fpgMHDpCDgwNVqVKFvvzyS4qPjyc/Pz/y8fFRuKDJvgDr1KlD/fr1o+XLl1Pnzp0JAC1YsICqVq1Ko0ePpuXLl1Pz5s0JgFKQoorsAtirVy9atmwZDRo0iABQXFyc0nOuLfBLTk6m8ePHEwD66KOPFJ4DIqLp06cTAOrUqRMtXbqUhg0bRiEhIeTn56cQNKSnp1NgYCB5eHjQxx9/TAsWLKDatWuTnZ2dwnvx2bNnVK1aNXJ0dKRJkybRN998Qy1atCAAtGjRIvlxmp5/dQBQjRo1yM/Pj2bNmkVffPEFhYeHk6urq0J3wbZt26h27dr06aef0urVq+mjjz4iHx8fCg8Pp6dPn8qPk30mo6OjKSYmhpYsWULz5s2j8+fPU79+/eTvL9lzlpubq/T8EgndCDVq1CB7e3saMWIErVixgmbPnk0NGzaUfwaMDfws9Rkq+tzXqlWLwsLCaN68eTRv3jzy8vKi8uXL09KlSyk6Opq+/vprmj59Ojk5OVHLli0V7v/uu+9Sp06d6PPPP6dVq1bR22+/Tfb29tSrVy/5Mb///ju1bduWACh0Iebm5tKKFSsIAHXv3l2+XTY05tKlSzp9T6p7vdVp1aoVRUdHK22Pj48ne3t7+Wfoo48+IolEQiNGjKA1a9bQ119/Tf369dN4bm3PdfHALzMzk+zt7alJkybybbLA4ddffyUACgFMnTp16J133lG67qjz5MkTcnJyopEjR2qtn+x7z93dnQCQm5sbDRgwQP58aDNz5kwCQM2aNaP58+fT4sWLqX///vTBBx8oldGmTRtasmQJjRs3juzt7alhw4YKwyx0vW7l5+dT69atCQD17duXli5dSnPnzqVWrVpRYmKi/Ljhw4eTg4MDjRgxglauXEkffPABubm5KZUbHh5OVatWpcDAQProo49o6dKlVK9ePZJIJHTp0iUi0v7dGx4eTpUqVSIfHx/68MMPaeXKlfLvgYYNG9KQIUNo4cKFtGTJEmrXrh0BoKVLl8rrsHPnTgoNDaWoqCj5uWU/NlR9r8jeCw0bNqSFCxfShx9+SK6urhQREaEQUA8ePJhcXFyoevXqNGzYMFqxYgX17NmTACgFn8YoKCigcuXKUbt27eTb7t27RwBUBu5vvfWWUkCnSrNmzahKlSryv6VSKTk7O9Po0aOVjpVd/3JycnSut1GBHxFRTk4OLV++nAYNGkTt2rUjBwcH8vX1pRUrVlB2dja1bt2aatasqdDSU1BQQM2aNVP45ffixQulvvyUlBRydnamWbNmybdpG+MHgH744Qf5tpcvX1JQUBD17NlT6+MDQHZ2dnT58mWlfUV/1RMJv5Br1KhBrVq1UtiubnzS22+/TcHBwUp98X379iUvLy+l8xenavyiLPDw9PSkjIwMhX116tShgIAAevTokXzb+fPnyc7OjgYNGiTfJvtyKvplmZ+fT6GhoSSRSBS++B8/fkyurq5ax1+dO3eOANDw4cMVtk+dOpUA0OHDh+XbdAn8iNSPM8nIyCAnJyfq3Lmzwq/2jz76SKm1aOLEiQSAjh8/Lt/25MkTioyMpIiICPn7b9GiRQSAfvrpJ/lxeXl51LRpU3J3d5d/wDQ9/+rIftX++eef8m23b98mFxcX6t69u3ybqvfDiRMnlN7fss/ka6+9pvRLVtMYv+LP76effkoAFIIMGdnzamzgZ+nPEABydnZWqP+qVasIAAUFBSl8cU6bNk3psao6/9y5c0kikSgE+4aM8dP1e1LT662K7PEVH4MUHR2t8LzXrl2bOnfurPV8ugJAb7/9Nj148IAyMjLo5MmT8qDl66+/lh8nC/zy8/MpKCiIZs+eTUREV65ckf/I1DXwmz17NgGgQ4cOaa3fokWLaNy4cbRhwwbavn07TZgwgRwcHKhy5cqUnZ2t8b43btwgOzs76t69u9I1S/ZZkX0vtWvXTuGYpUuXEgD6/vvv5dt0vW59//338h/kxcnKPX78OAGgDRs2KOzfv3+/0nZZa9uxY8fk2zIyMsjZ2ZmmTJki36ZpjJ/sHPv371fap+rz0r59e6pQoYLCNnVj/Ip/r+Tl5VFAQADVqFGDnj9/Lj9uz549BIA+/fRT+TZZw0PR2IGIqG7dulS/fn2lsgz1448/EgCFXgdZjFL09ZR57733CIBSz1dRx44dI4lEQp988ol8m+y7o/jjIRJalQHQtWvXdK630elcPDw8MHr0aKxfvx6//PILAgMD4evri1GjRiE/Px+HDx9G79698eTJEzx8+BAPHz7Eo0eP0L59e9y4cQOpqakAhDFHsvEaUqkUjx49gru7O6pWrYq//vpL5/q4u7srjCtxcnJCo0aNdJ75EhMTg+joaKXtRccsPH78GNnZ2WjRooVOdSMi7NixA127dgURyZ+Hhw8fon379sjOztbrMRbXs2dP+Pv7y/9OS0vDuXPnMGTIEPj6+sq316pVC23btsXevXuVzjF8+HD5/+3t7dGgQQMQEd5++235dm9vb1StWlXrcyk7/+TJkxW2T5kyBQDw888/6/HoNDt48CDy8vLw7rvvQiKRyLdPnDhRZb0aNWqE1157Tb7N3d0dI0eOxK1bt3DlyhX5cUFBQejXr5/8OEdHR4wfPx65ubk4evSownmLP//aNG3aFPXr15f/Xb58ecTGxuKXX36Rr2td9P326tUrPHr0CJUqVYK3t7fK98qIESNgb2+vcx2K27FjB2rXro3u3bsr7Sv6vBrDGj5DrVu3Vkgz07hxYwDCa+jh4aG0veh7vWj9nz59iocPH6JZs2YgIpw9e1Zr2epkZmbq/D0po+vr3aNHDzg4OCismnTp0iVcuXIFffr0kW/z9vbG5cuXcePGDYMfR3Hfffcd/P39ERAQgMaNG+O3337D5MmTVX427e3t0bt3b2zatAkAsGHDBoSFhaFFixY6lXXs2DHEx8ejd+/eaNWqldbjJ0yYgCVLlqB///7o2bMnFi1ahPXr1+PGjRtYvny5xvsmJiaioKAAn376qcIYQ6DwsyL7Xpo4caLCMSNGjICnp6fSd6Au160dO3bAz88P7777rlKdZOVu27YNXl5eaNu2rcJnpH79+nB3d0dSUpLC/aKjoxWeY39/f52+44uKjIxE+/btlbYX/bxkZ2fj4cOHiImJwT///IPs7Gydzy/z559/IiMjA2PGjFEY+9e5c2dERUWpvK6MGjVK4e8WLVoYNgtWhWvXrmHs2LFo2rQpBg8eLN/+/PlzAKrHUcvqLTumuIyMDPTv3x+RkZF4//33RTmnKqKs1Zueno5du3Zh1apVyMzMREFBAdLT03Hz5k0QET755BP4+/sr3GbMmAFAeKCAMJFi4cKFqFy5MpydneHn5wd/f39cuHBBrzdJaGio0oXKx8cHjx8/1un+kZGRKrfv2bMHTZo0gYuLC3x9feHv748VK1boVLcHDx4gKysLq1evVnoehg4dCqDweTBE8Trfvn0bAFC1alWlY6tVq4aHDx/i6dOnCttlA1BlvLy84OLiojTw2cvLS+tzefv2bdjZ2aFSpUoK24OCguDt7S2vnxhk56pcubLCdn9/f/j4+Cgdq+45KXqu27dvo3Llykpf6sWPk1H3nlGneF0BYSD8s2fP5NP9nz9/jk8//RRhYWEKn4esrCyV7zl961BccnKyyXNgWsNnSNX7HADCwsJUbi/6Xr9z5478x5S7uzv8/f0RExMDAAZdyGT0+Z6U0fX19vPzQ+vWrbF161b5ti1btsDBwQE9evSQb5s1axaysrJQpUoV1KxZE++99x4uXLhg8GMCgNjYWBw4cAAHDx7EyZMn8fDhQ3z99ddKnyuZ/v3748qVKzh//jw2btyIvn376vSj49q1a+jevTtq1KiBb7/91uD69u/fH0FBQTh48KDG45KTk2FnZ6eygUBG3Xewk5MTKlSooPQdost1Kzk5GVWrVoWDg/o5mTdu3EB2djYCAgKU3ku5ublK76PinwdV5Wqj7r3422+/oU2bNnBzc4O3tzf8/f3x0UcfATDs86LpuhYVFaX0nLq4uCj9INf3samTnp6Ozp07w8vLC9u3b1f4ESYLeF++fKl0vxcvXigcU9TTp0/RpUsXPHnyBLt27VKY8GHoOdUxauWOp0+f4p133sHmzZshkUjg5eWF58+fIyUlBaGhofIZKVOnTlX5iwCAPDj4/PPP8cknn2DYsGGYPXs2fH19YWdnh4kTJ6KgoEDnOqn7FUw6rkyn6sk7fvw4unXrhtdffx3Lly9HcHAwHB0dsXbtWmzcuFHrOWX1f+uttxR+GRRVq1Ytneqna531pep5M/a5NKalSNbyZQvEeP6Le/fdd7F27VpMnDgRTZs2hZeXFyQSCfr27avy82CKOhSn7vXU5bWyls+Quve0tve6VCpF27ZtkZmZiQ8++ABRUVFwc3NDamoqhgwZotd3VHGy++ryPSmjz+vdt29fDB06FOfOnUOdOnWwdetWtG7dWuFH3euvv47k5GTs2rULv/76K7799lssXLgQK1euVOgN0EfRa4AuGjdujIoVK2LixIlISUlB//79td7n7t27aNeuHby8vLB3716FVltDhIWFITMz06hzGMLY71qZgoICBAQEYMOGDSr3Fw+ExChX1XsxOTkZrVu3RlRUFBYsWICwsDA4OTlh7969WLhwoVGfF10Z0wOiSXZ2Njp27IisrCwcP34cISEhCvuDg4MBQGVOybS0NPj6+iq13OXl5aFHjx64cOECfvnlF6Uf4bL7qDsnAKV6aGJU4DdhwgScOnUKP//8M9q0aYMvv/wSH330EVatWoXw8HCMHj0agNBNpu0LYPv27WjZsqXSah9ZWVkKX1BidTvpY8eOHXBxccEvv/yi8IKtXbtW6VhV9fP394eHhwekUqleX4SGCg8PBwBcv35dad+1a9fg5+dn0vQP4eHhKCgowI0bN+StZABw//59ZGVlyesHCL/AiicYzsvLU3qDq3vdZee6ceMGKlSoIN/+4MEDpV924eHhap+ToucKDw/HhQsXUFBQoNA6Ufw4Q6nqTvv7779RpkwZ+Rfz9u3bMXjwYHz99dfyY168eKFXMmZ9PisVK1bEpUuXNB4ja0EtXgddWnBt7TNU3MWLF/H3339j/fr1GDRokHz7gQMHlI5V97yr2y573+ryPWmIuLg4vPPOO/Lu3r///hvTpk1TOs7X1xdDhw7F0KFDkZubi9dffx0zZ840OPAzRL9+/fDZZ5+hWrVqqFOnjsZjHz16hHbt2uHly5c4dOiQ/IJrKCLCrVu3ULduXY3HVaxYEQUFBbhy5YraOhb9Di76vZSXl4eUlBSDXueKFSvi5MmTePXqFRwdHdUec/DgQTRv3ly0H4OGXHP/7//+Dy9fvsTu3bsVWhWLdzXrc/6iz2nx7vzr168b/b2sixcvXqBr1674+++/cfDgQZWtvuXKlYO/v7/KJMynTp1Ses8UFBRg0KBBOHToELZu3SrvRSjKzs4ONWvWVHnOkydPokKFCnr96DGqq3fHjh1Yt24d2rdvj6NHj2L27NmIjIzEwIED0a5dO/zwww9wcHDAqlWrVEaqRbNY29vbK/3K2LZtm9LYFlnAYs7VCOzt7SGRSBRaNm7duqVydQE3Nzelutnb26Nnz57YsWOHyotr8WzexgoODkadOnWwfv16hbpcunQJv/76Kzp16iRqecXJzr9o0SKF7QsWLAAgjMmQqVixIo4dO6Zw3OrVq5VakdS97m3atIGjoyOWLFmi8P4pXrasXqdOncKJEyfk254+fYrVq1cjIiJC/iHu1KkT0tPTFcZF5efnY8mSJXB3d1f5wdTHiRMnFMaj3b17F7t27UK7du3kv1JVfR6WLFmiV0uoPp+Vnj174vz589i5c6fSPlk9KlasCAAKr5dUKsXq1au1nt/WPkPFyV6Xoq8JEWHx4sVKx6p73suUKaNye0BAAN544w2dvicN4e3tjfbt22Pr1q3YvHkznJyclJZ8fPTokcLf7u7uqFSpkkLXUnZ2Nq5du2ZUt7Y2w4cPx4wZMxR+8Kjy9OlTdOrUCampqdi7d6/K4RMyd+7ckf9ok1H1nK5YsQIPHjxAhw4dNJYdFxcHOzs7zJo1S6nlSvb+aNOmDZycnPDNN98ovGe+++47ZGdnK3wH6qpnz554+PAhli5dqrRPVkbv3r0hlUoxe/ZspWPy8/MNum4acs1V9XnJzs5W+UNP1eddlQYNGiAgIAArV65UeF/u27cPV69eNeg51YdUKkWfPn1w4sQJbNu2DU2bNlV7bM+ePbFnzx7cvXtXvu3QoUP4+++/8eabbyoc++6772LLli1Yvny5wvCL4nr16oXTp08rBH/Xr1/H4cOHlc6pjUEtfvv27cO1a9fw4sULbNq0CfHx8Thw4ADCw8Oxe/du+WBDJycnODs7g4hQs2ZNjBgxAhUqVMD9+/dx4sQJ3Lt3D+fPnwcAdOnSBbNmzcLQoUPRrFkzXLx4ERs2bFD4tQQIFx9vb2+sXLkSHh4ecHNzQ+PGjY0e46RJ586dsWDBAnTo0AH9+/dHRkYGli1bhkqVKimNg6lfvz4OHjyIBQsWICQkBJGRkWjcuDHmzZuHpKQkNG7cGCNGjEB0dDQyMzPx119/4eDBg6J3L8yfPx8dO3ZE06ZN8fbbb+P58+dYsmQJvLy8VC4nJabatWtj8ODBWL16NbKyshATE4NTp05h/fr1iIuLQ8uWLeXHDh8+HKNGjULPnj3Rtm1bnD9/Hr/88ovS2MI6derA3t4eX3zxBbKzs+Hs7IxWrVohICAAU6dOxdy5c9GlSxd06tQJZ8+exb59+5TO8eGHH2LTpk3o2LEjxo8fD19fX6xfvx4pKSnYsWOHvHVv5MiRWLVqFYYMGYIzZ84gIiIC27dvx2+//YZFixYZ3Z1Uo0YNtG/fHuPHj4ezs7N8MHl8fLz8mC5duuDHH3+El5cXoqOjceLECRw8eBBly5bVuRzZBJKPP/4Yffv2haOjI7p27aqytfe9997D9u3b8eabb2LYsGGoX78+MjMzsXv3bqxcuRK1a9dG9erV0aRJE0ybNg2ZmZnw9fXF5s2bkZ+fr7UutvgZKioqKgoVK1bE1KlTkZqaCk9PT+zYsUPleCHZ8z5+/Hi0b98e9vb26Nu3L1xdXREdHY0tW7agSpUq8PX1RY0aNVCjRg0sW7YMr732mtbvSUP16dMHb731FpYvX4727dsrJYOPjo7GG2+8gfr168PX1xd//vkntm/fjnHjxsmP2blzJ4YOHYq1a9eabJ3n8PBwnb6fBgwYgFOnTmHYsGG4evUqrl69Kt/n7u6uENgOGjQIR48eVQhCwsPD5cl3XVxc8L///Q+bN29GnTp18M4772gsu1KlSvj4448xe/ZstGjRAj169ICzszNOnz6NkJAQzJ07F/7+/pg2bRri4+PRoUMHdOvWDdevX8fy5cvRsGFDhYkcuho0aBB++OEHTJ48GadOnUKLFi3w9OlTHDx4EGPGjEFsbCxiYmLwzjvvYO7cuTh37hzatWsHR0dH3LhxA9u2bcPixYvRq1cvvcrV9N2rTrt27eDk5ISuXbvinXfeQW5uLtasWYOAgAClHzf169fHihUr8Nlnn6FSpUoICAhQOUHH0dERX3zxBYYOHYqYmBj069cP9+/fx+LFixEREWHwMqZDhgyRXwc0rS8+ZcoU7N69G127dkVmZqZCwmYACq/pRx99hG3btqFly5aYMGECcnNzMX/+fNSsWVM+JhkQGiiWL1+Opk2bokyZMkrn7N69u/z7esyYMVizZg06d+6MqVOnwtHREQsWLEBgYKB84qTOdJ7/S8rJHO3s7MjBwYGaNGlCixcvVkiH8Ndff1H9+vVpwIABlJycTIMGDaKgoCBydHSkcuXKUZcuXWj79u3y41+8eEFTpkyh4OBgcnV1pebNm9OJEycoJiZGaar3rl275AmWAeUEzsXpunwU1CQdJSL67rvv5Ekzo6KiaO3atfJUKEVdu3aNXn/9dXJ1dVVKJ3L//n0aO3YshYWFkaOjIwUFBVHr1q1p9erVWuumKZ3L/PnzVd7n4MGD1Lx5c3J1dSVPT0/q2rWr2gTOsiS9MrIEmLrUQ5VXr15RfHw8RUZGkqOjI4WFhalM4CyVSumDDz4gPz8/KlOmDLVv355u3rypMsHwmjVrqEKFCmRvb68wzV8qlVJ8fLz8vaNLAmdvb29ycXGhRo0aqU3gPHToUPLz8yMnJyeqWbOmUgohbc+/KrL32E8//SR/P9WtW1cpVcLjx4/l5bu7u1P79u3p2rVrSo9JW6oLWWJrOzs7hfQkqp6bR48e0bhx46hcuXLyBMWDBw9WSJ+SnJxMbdq0IWdnZ3n+rwMHDuiUzsXSnyFVn291r6EslUTRBNNXrlyhNm3akLu7O/n5+dGIESPo/PnzSuml8vPz6d133yV/f3+SSCQKj+/333+n+vXrk5OTk1JqF12+J3VNbVJcTk6O/PksmqZI5rPPPqNGjRqRt7c3ubq6UlRUFM2ZM0ch75usbFWptIrT9F1alCydiyaqHrOqxL+yW/H3nSxdSlHDhw+n6Oho8vDwIEdHR6pUqRJ98MEHeuVC+/7776lu3brk7OxMPj4+FBMTo7TM1tKlSykqKoocHR0pMDCQRo8erTaBc3HqUiJ9/PHH8u/VoKAg6tWrlzyXrczq1aupfv365OrqSh4eHlSzZk16//336d9//5Ufo+65V3XNVffdq+n12717N9WqVYtcXFwoIiKCvvjiC3lKmqJpktLT06lz587k4eFBgPYEzlu2bJE/776+vhoTOBen6vumZ8+e5OrqqvS6qHpe1L3nVIVSly5donbt2lGZMmXI29tbZZ5IdQnfZbfiqbPu3r1LvXr1Ik9PT3J3d6cuXbrQjRs3NNZbFQmRnqNHi3j8+DH69++PX375BT4+PvJfABkZGcjKykL79u2xceNGnZYaY6w0kEgkGDt2rMruGsYYY+YVGBiIQYMGYf78+ZauitkYNbnDx8dH3u174sQJpKenAxDSdjRt2hRRUVGiVJIxxhhjTEyXL1/G8+fP8cEHH1i6KmZlVOAnExUVxUEeY4wxxmxG9erVkZOTY+lqmJ0oCZzVefz4MX744QdTFsEYY4wxxnRk1Bg/bc6fP4969erZVDJexhhjjLGSyqiuXm1NpE+ePDHm9IwxxhhjTERGtfjZ2dlpzLpNREpJWxljjDHGmGUY1eLn4eGBjz/+GI0bN1a5/8aNG1qTYVqrgoIC/Pvvv/Dw8LDIMnGMMcYY0x8R4cmTJwgJCVFYdpMJjAr86tWrBwBql7Dy9vbWe5Fpa/Hvv/8iLCzM0tVgjDHGmAHu3r2L0NBQS1fD6hgV+PXv3x/Pnz9Xuz8oKAgzZswwpgiLkS3LdffuXXh6elq4NowxxhjTRU5ODsLCwoxeXrOkMumsXluWk5MDLy8vZGdnc+DHGGOM2Qi+fmvGnd+MMcYYY6UEB36MMcYYY6UEB36MMcYYY6WEKGv1lmZSqRSvXr2ydDUYYzbE0dER9vb2lq4GY6wUMjrwy8/Px8aNG9G+fXsEBgaKUSebQERIT09HVlaWpavCGLNB3t7eCAoK4jyhjDGzMjrwc3BwwKhRo3D16lUx6mMzZEFfQEAAypQpw1/ejDGdEBGePXuGjIwMAEBwcLCFa8QYK01E6ept1KgRzp07h/DwcDFOZ/WkUqk86Ctbtqylq8MYszGurq4AgIyMDAQEBHC3L2PMbEQJ/MaMGYPJkyfj7t27qF+/Ptzc3BT216pVS4xirIZsTF+ZMmUsXBPGmK2SfX+8evWKAz/GmNmIEvj17dsXADB+/Hj5NolEAiKCRCKBVCoVoxirw927jDFD8fcHY8wSRAn8UlJSxDgNY4wxI0ilwPHjQFoaEBwMtGgBcGMiY6woUQK/0jK2j1mvmTNnIjExEefOnbN0VRiziIQEYMIE4N69wm2hocDixUCPHparF2PMuoiWwPnHH39E8+bNERISgtu3bwMAFi1ahF27dolVBBPBkCFDIJFIIJFI4OjoiMDAQLRt2xbff/89CgoK9DrXunXr4O3tLUq93njjDXm9XFxcEB0djeXLl+t8/6lTp+LQoUN6lRkREYFFixbpWVPGrE9CAtCrl2LQBwCpqcL2hATL1IsxZn1ECfxWrFiByZMno1OnTsjKypKP6fP29uYLqxZSKXDkCLBpk/CvOYZDdujQAWlpabh16xb27duHli1bYsKECejSpQvy8/NNXwE1RowYgbS0NFy5cgW9e/fG2LFjsWnTJp3u6+7uzjOsWakklQotfUTK+2TbJk40z3cLY8z6iRL4LVmyBGvWrMHHH3+sMDutQYMGuHjxohhFlEgJCUBEBNCyJdC/v/BvRITpf507OzsjKCgI5cqVQ7169fDRRx9h165d2LdvH9atWyc/bsGCBahZsybc3NwQFhaGMWPGIDc3FwBw5MgRDB06FNnZ2fKWupkzZwIQWn8bNGgADw8PBAUFoX///vKcZZqUKVMGQUFBqFChAmbOnInKlStj9+7dAIA7d+4gNjYW7u7u8PT0RO/evXH//n35fWfOnIk6derI/x4yZAji4uLw1VdfITg4GGXLlsXYsWPlM7LfeOMN3L59G5MmTZLXHwBu376Nrl27wsfHB25ubqhevTr27t1rzNPNmEkdP67c0lcUEXD3rnAcY4yJEvilpKSgbt26StudnZ3x9OlTMYoocayta6ZVq1aoXbs2EooUbGdnh2+++QaXL1/G+vXrcfjwYbz//vsAgGbNmmHRokXw9PREWloa0tLSMHXqVABCeorZs2fj/PnzSExMxK1btzBkyBC96+Tq6oq8vDwUFBQgNjYWmZmZOHr0KA4cOIB//vkHffr00Xj/pKQkJCcnIykpCevXr8e6devkgW1CQgJCQ0Mxa9Ysef0BYOzYsXj58iWOHTuGixcv4osvvoC7u7vedWfMXP5764p2HGOsZBNlckdkZKTKBM779+9HtWrVxCiiRNHWNSORCF0zsbHmnZEXFRWFCxcuyP+eOHGi/P8RERH47LPPMGrUKCxfvhxOTk7w8vKCRCJBUFCQwnmGDRsm/3+FChXwzTffoGHDhsjNzdUpiJJKpdi0aRMuXLiAkSNH4tChQ7h48SJSUlIQFhYGAPjhhx9QvXp1nD59Gg0bNlR5Hh8fHyxduhT29vaIiopC586dcejQIYwYMQK+vr6wt7eXt0rK3LlzBz179kTNmjXl9WfMmum68AcvEMIYA0Rq8Zs8eTLGjh2LLVu2gIhw6tQpzJkzB9OmTZO3ELFC1to1I8u7KHPw4EG0bt0a5cqVg4eHBwYOHIhHjx7h2bNnGs9z5swZdO3aFeXLl4eHhwdiYmIACEGVJsuXL4e7uztcXV0xYsQITJo0CaNHj8bVq1cRFhYmD/oAIDo6Gt7e3hqXCqxevbrC0IPg4GCtXc7jx4/HZ599hubNm2PGjBkKgTBj1qhFC2H2rrq0gBIJEBYmHMcYY6IEfsOHD8cXX3yB6dOn49mzZ+jfvz9WrFiBxYsXy5M7s0LW2jVz9epVREZGAgBu3bqFLl26oFatWtixYwfOnDmDZcuWAQDy8vLUnuPp06do3749PD09sWHDBpw+fRo7d+7Uej8AGDBgAM6dO4eUlBQ8ffoUCxYsgJ2d4W9RR0dHhb8lEonWmcvDhw/HP//8g4EDB+LixYto0KABlixZYnAdGDM1e3shZQugHPzJ/l60iPP5McYEoqVzGTBgAG7cuIHc3Fykp6fj3r17ePvtt8U6fYlijV0zhw8fxsWLF9GzZ08AQqtdQUEBvv76azRp0gRVqlTBv//+q3AfJycnpVVZrl27hkePHmHevHlo0aIFoqKidJrYAQBeXl6oVKkSypUrpxDwVatWDXfv3sXdu3fl265cuYKsrCxER0cb+pBV1h8AwsLCMGrUKCQkJGDKlClYs2aNwWUwZg49egDbtwPlyiluDw0VtnMeP8aYjChj/GQyMjJw/fp1AELrir+/v5inLzFkXTOpqarH+Ukkwn5Tdc28fPkS6enpkEqluH//Pvbv34+5c+eiS5cuGDRoEACgUqVKePXqFZYsWYKuXbvit99+w8qVKxXOExERgdzcXBw6dAi1a9dGmTJlUL58eTg5OWHJkiUYNWoULl26hNmzZxtV3zZt2qBmzZoYMGAAFi1ahPz8fIwZMwYxMTFo0KCBweeNiIjAsWPH0LdvXzg7O8PPzw8TJ05Ex44dUaVKFTx+/BhJSUk8TpXZhB49hHHBvHIHY0wTUVr8njx5goEDByIkJAQxMTGIiYlBSEgI3nrrLWRnZ4tRRIli6a6Z/fv3Izg4GBEREejQoQOSkpLwzTffYNeuXfIxcbVr18aCBQvwxRdfoEaNGtiwYQPmzp2rcJ5mzZph1KhR6NOnD/z9/fHll1/C398f69atw7Zt2xAdHY158+bhq6++Mqq+EokEu3btgo+PD15//XW0adMGFSpUwJYtW4w676xZs3Dr1i1UrFhR/iNFKpVi7NixqFatGjp06IAqVarolUiaMUuytwfeeAPo10/4l4M+xlhxEiJVbU766dOnD86ePYslS5agadOmAIATJ05gwoQJqFOnDjZv3mx0Rc0tJycHXl5eyM7Ohqenp8K+Fy9eICUlBZGRkXBxcTG4DFVLLIWFCUEfd80wVrKJ9T3CGFOk6frNROrq3bNnD3755Re89tpr8m3t27fHmjVr0KFDBzGKKJG4a4Yxxhhj5iRK4Fe2bFl4eXkpbffy8oKPj48YRZRYsq4ZxhhjjDFTE2WM3/Tp0zF58mSkp6fLt6Wnp+O9997DJ598IkYRjDHGGGPMSKK0+K1YsQI3b95E+fLlUb58eQBCsl5nZ2c8ePAAq1atkh/7119/iVEkY4wxxhjTkyiBX1xcnBinYYwxxhhjJiRK4DdjxgwxTsMYY4wxxkxItJU7GGOMMcaYdePAjzHGGGOslODAjzHGGGOslODAj1mlW7duQSKR4Ny5c6Ked8iQITwZiTHGWKllksBPKpXi3LlzePz4sSlOz4wwZMgQSCQS+a1s2bLo0KEDLly4IFoZM2fORJ06dXQ6tmhdZLfXXnsNYWFhSEtLQ40aNQAAR44cgUQiQVZWlsbzaTtu8eLFWLdune4PRiTr1q2TPz47OzsEBwejT58+uHPnjknLTUtLQ//+/VGlShXY2dlh4sSJWu9z/vx59OvXD2FhYXB1dUW1atWwWLa49H8SEhLQtm1b+Pv7w9PTE02bNsUvv/xiokehuzlz5qBZs2YoU6YMvL291R63bt061KpVCy4uLggICMDYsWM1njc9PR0DBw5EUFAQ3NzcUK9ePezYsUPhmL///huxsbHw8/ODp6cnXnvtNSQlJYnxsBhjTDSiBH4TJ07Ed999B0AI+mJiYlCvXj2EhYXhyJEjYhTBRNShQwekpaUhLS0Nhw4dgoODA7p06WKx+qxdu1Zen7S0NOzevRv29vYICgqCg4MoE8/lvLy8NAYEpuTp6Ym0tDSkpqZix44duH79Ot58802Tlvny5Uv4+/tj+vTpqF27tk73OXPmDAICAvDTTz/h8uXL+PjjjzFt2jQsXbpUfsyxY8fQtm1b7N27F2fOnEHLli3RtWtXnD17VrS6y1p99ZGXl4c333wTo0ePVnvMggUL8PHHH+PDDz/E5cuXcfDgQbRv317jeQcNGoTr169j9+7duHjxInr06IHevXsrPN4uXbogPz8fhw8fxpkzZ1C7dm106dJFIbE9Y4xZHImgXLlydPr0aSIi2rlzJ4WEhND169dp+vTp1KxZMzGKMLvs7GwCQNnZ2Ur7nj9/TleuXKHnz59boGbGGTx4MMXGxipsO378OAGgjIwM+bY7d+7Qm2++SV5eXuTj40PdunWjlJQU+f6kpCRq2LAhlSlThry8vKhZs2Z069YtWrt2LQFQuK1du1ZtfQDQzp07lbanpKQQADp79qz8/0VvgwcPVnm+pKQkAkCPHz/W6fHHxMTQu+++S++99x75+PhQYGAgzZgxQ+E+jx8/prfffpv8/PzIw8ODWrZsSefOnVP7mFRZu3YteXl5KWz75ptv1L7HTCEmJoYmTJhg0H3HjBlDLVu21HhMdHQ0xcfHExFRRkYGBQYG0pw5c+T7f/vtN3J0dKSDBw/qVKbsdTeEquebiCgzM5NcXV11roOMm5sb/fDDDwrbfH19ac2aNURE9ODBAwJAx44dk+/PyckhAHTgwAGV57Tl7xHGrJmm6zcjEqXF7+HDhwgKCgIA7N27F2+++SaqVKmCYcOG4eLFi2IUYf2IgKdPzX8jMqraubm5+Omnn1CpUiWULVsWAPDq1Su0b98eHh4eOH78OH777Te4u7ujQ4cOyMvLQ35+PuLi4hATE4MLFy7gxIkTGDlyJCQSCfr06YMpU6agevXq8ha8Pn36GFXHsLAwebfa9evXkZaWptT1aIz169fDzc0NJ0+exJdffolZs2bhwIED8v1vvvkmMjIysG/fPpw5cwb16tVD69atkZmZCaCwZUqf1u2MjAzs3LkT9vb2sLe3V3vc8ePH4e7urvG2YcMGgx+7rrKzs+Hr66t2f0FBAZ48eSI/xt/fH99//z1mzpyJP//8E0+ePMHAgQMxbtw4tG7d2uT1VefAgQMoKChAamoqqlWrhtDQUPTu3Rt3797VeL9mzZphy5YtyMzMREFBATZv3owXL17gjf8W2i5btiyqVq2KH374AU+fPkV+fj5WrVqFgIAA1K9f3wyPjDHGdCNKP1pgYCCuXLmC4OBg7N+/HytWrAAAPHv2TONFrUR59gxwdzd/ubm5gJubXnfZs2cP3P+r69OnTxEcHIw9e/bAzk74HbBlyxYUFBTg22+/lXe1rV27Ft7e3jhy5AgaNGiA7OxsdOnSBRUrVgQAVKtWTX5+d3d3ODg4yH8MaNOvXz+F98lPP/2kMEbQ3t5eHlAEBASI3lVbq1YteRLyypUrY+nSpTh06BDatm2L//3vfzh16hQyMjLg7OwMAPjqq6+QmJiI7du3Y+TIkXB0dETVqlVRpkwZjeVkZ2fD3d0dRIRnz54BAMaPHw83Da9fgwYNtE5wCQwM1OPR6u/333/Hli1b8PPPP6s95quvvkJubi569+4t39apUyeMGDECAwYMQIMGDeDm5oa5c+eatK7a/PPPPygoKMDnn3+OxYsXw8vLC9OnT0fbtm1x4cIFODk5qbzf1q1b0adPH5QtWxYODg4oU6YMdu7ciUqVKgEQxqoePHgQcXFx8PDwgJ2dHQICArB//374+PiY8yEyxphGogR+Q4cORe/evREcHAyJRII2bdoAAE6ePImoqCgximAiatmypTw4f/z4MZYvX46OHTvi1KlTCA8Px/nz53Hz5k14eHgo3O/FixdITk5Gu3btMGTIELRv3x5t27ZFmzZt5K+/OqNGjcJPP/0k/zs3N1f+/4ULF8rfMwAQHByMBw8eiPVwtapVq5bC38HBwcjIyAAgTHTIzc2Vt4bKPH/+HMnJyQCAcuXK4dq1a1rL8fDwwF9//YVXr15h37592LBhA+bMmaPxPq6urvLgwhIuXbqE2NhYzJgxA+3atVN5zMaNGxEfH49du3YhICBAYd9XX32FGjVqYNu2bThz5ow8eFanevXquH37NgCA/mvNdi/yg6pFixbYt2+fwY+noKAAr169wjfffCN/PJs2bUJQUBCSkpLUjvX75JNPkJWVhYMHD8LPzw+JiYno3bs3jh8/jpo1a4KIMHbsWAQEBOD48eNwdXXFt99+i65du+L06dMaPxuMMWZOogR+M2fORI0aNXD37l28+eab8i93e3t7fPjhh2IUYf3KlBFa3yxRrp7c3NwUgolvv/0WXl5eWLNmDT777DPk5uaifv36KrsQ/f39AQgtgOPHj8f+/fuxZcsWTJ8+HQcOHECTJk1Uljlr1ixMnTpV5b6goCCl4MacgZ+jo6PC3xKJBAUFBQCEADU4OFhlN66+LY92dnbyx1mtWjUkJydj9OjR+PHHH9Xe5/jx4+jYsaPG865atQoDBgzQqy66uHLlClq3bo2RI0di+vTpKo/ZvHkzhg8fjm3btikE7zLJycn4999/UVBQgFu3bqFmzZoay9y7dy9evXoFAEhNTcUbb7yh0OLp6upq+AMC5AFYdHS0fJu/vz/8/PzUzrBOTk7G0qVLcenSJVSvXh0AULt2bRw/fhzLli3DypUrcfjwYezZswePHz+Gp6cnAGD58uU4cOAA1q9fX3q+BxljVk+0KZO9evVS2jZ48GCxTm/9JBK9u1ythSzFyPPnzwEA9erVw5YtWxAQECC/iKlSt25d1K1bF9OmTUPTpk2xceNGNGnSBE5OTpBKpQrHBgQEKLUG6UPWBVf8vKZWr149pKenw8HBAREREaKe+8MPP0TFihUxadIk1KtXT+UxlurqvXz5Mlq1aoXBgwerbZXctGkThg0bhs2bN6Nz585K+/Py8vDWW2+hT58+qFq1KoYPH46LFy9qfB+Eh4fL/y+b0S1mi2fz5s0BCGNFQ0NDAQCZmZl4+PChQtlFybrlZUMhZOzt7eU/ENQdY2dnJz+GMcasgWiB36FDh3Do0CFkZGQofdF9//33YhXDRPDy5Ut5ionHjx9j6dKlyM3NRdeuXQEAAwYMwPz58xEbG4tZs2YhNDQUt2/fRkJCAt5//328evUKq1evRrdu3RASEoLr16/jxo0bGDRoEAAgIiICKSkpOHfuHEJDQ+Hh4aG1i0+b8PBwSCQS7NmzB506dYKrq6tCF2BxFy9eVOiqlkgkOqczKapNmzZo2rQp4uLi8OWXX6JKlSr4999/8fPPP6N79+5o0KABUlNT0bp1a/zwww9o1KiRzucOCwtD9+7d8emnn2LPnj0qjxGjq1cWOObm5uLBgwc4d+4cnJyc5K1eO3fuxLRp0+Td1ZcuXUKrVq3Qvn17TJ48Wf5esbe3l7f4bty4EYMHD8bixYvRuHFj+TGurq7w8vICAHz88cfIzs7GN998A3d3d+zduxfDhg1T+1jFcOfOHWRmZuLOnTvyfKKAEDy6u7ujSpUqiI2NxYQJE7B69Wp4enpi2rRpiIqKQsuWLQFA6fWMiopCpUqV8M477+Crr75C2bJlkZiYiAMHDsgfS9OmTeHj44PBgwfj008/haurK9asWYOUlBSVQTFjjFmMGFODZ86cSXZ2dtSoUSOKjY2luLg4hZstKsnpXFAkLYqHhwc1bNiQtm/frnBcWloaDRo0iPz8/MjZ2ZkqVKhAI0aMoOzsbEpPT6e4uDgKDg4mJycnCg8Pp08//ZSkUikREb148YJ69uxJ3t7eoqRzkZk1axYFBQWRRCLRms6l+M3e3l7++Iuncyme4iQ2Nlbh/Dk5OfTuu+9SSEgIOTo6UlhYGA0YMIDu3LmjUNekpCS1j1NdepETJ04QADp58qTa+xpL1fMRHh6uULeiXwUzZszQep+YmBiVx8iet6SkJHJwcKDjx4/L75OSkkKenp60fPlyneptSDqX4u9v2a3oa5OdnU3Dhg0jb29v8vX1pe7du8tfy6LlFr3P33//TT169KCAgAAqU6YM1apVSym9y+nTp6ldu3bk6+tLHh4e1KRJE9q7d6/autry9whj1ozTuWgmITIyHwiEcTNffvklBg4caOyprEZOTg68vLyQnZ2t1N354sULpKSkIDIyEi4uLhaqIWPMlvH3CGOmoen6zURauSMvLw/NmjUT41SMMcYYY8xERAn8hg8fjo0bN4pxKsYYY4wxZiIGT+6YPHmy/P8FBQVYvXo1Dh48iFq1aimlx1iwYIHhNWSMMcYYY6IwOPArvhi7bKWFS5cuGVUhxhhjjDFmGgYHfklJSWLWwyaJMC+GMVZK8fcHY8wSRBnjN2zYMDx58kRp+9OnTzFs2DAxirAqsq5sWdJWxhjTl+z7o/jQGMYYMyVR0rnY29sjLS1NKSP/w4cPERQUhPz8fGOLMDtt08HT0tKQlZWFgIAAlClTBhKJxAK1ZIzZGiLCs2fPkJGRAW9vb17HlzGRcToXzYxauSMnJwdEBCLCkydPFHJRSaVS7N2716hluqxZUFAQACAjI8PCNWGM2SJvb2/59whjjJmLUYGft7c3JBIJJBIJqlSporRfIpEgPj7emCKslkQiQXBwMAICAuSLyjPGmC4cHR1hb29v6WowxkohowK/pKQkEBFatWqFHTt2wNfXV77PyckJ4eHhCAkJMbqS1sze3p6/wBljjDFmE4wK/GJiYgAAKSkpCAsLg52dKHNFGGOMMcaYCRgV+MmEh4cDEGap3blzB3l5eQr7a9WqJUYxjDHGGGPMCKIEfg8ePMDQoUOxb98+lfulUqkYxTDGGGOMMSOI0jc7ceJEZGVl4eTJk3B1dcX+/fuxfv16VK5cGbt37xajCMYYY4wxZiRRWvwOHz6MXbt2oUGDBrCzs0N4eDjatm0LT09PzJ07F507dxajGMYYY4wxZgRRWvyePn0qz9fn4+ODBw8eAABq1qyJv/76S4wiGGOMMcaYkUQJ/KpWrYrr168DAGrXro1Vq1YhNTUVK1eu5Kz0jDHGGGNWQpSu3gkTJiAtLQ0AMGPGDHTo0AEbNmyAk5MT1q1bJ0YRjDHGGGPMSKKs1Vvcs2fPcO3aNZQvXx5+fn5in94seK0/xhhjzPbw9VszUTMu5+Xl4fr163ByckK9evUMCvrmzp2Lhg0bwsPDAwEBAYiLi5N3I8u8ePECY8eORdmyZeHu7o6ePXvi/v37CsfcuXMHnTt3RpkyZRAQEID33nsP+fn5Rj0+xhhjjDFbJkrg9+zZM7z99tsoU6YMqlevjjt37gAA3n33XcybN0+vcx09ehRjx47FH3/8gQMHDuDVq1do164dnj59Kj9m0qRJ+L//+z9s27YNR48exb///osePXrI90ulUnTu3Bl5eXn4/fffsX79eqxbtw6ffvqpGA+XMcYYY8w2kQjGjx9P9evXp+PHj5ObmxslJycTEVFiYiLVqVPHqHNnZGQQADp69CgREWVlZZGjoyNt27ZNfszVq1cJAJ04cYKIiPbu3Ut2dnaUnp4uP2bFihXk6elJL1++1Knc7OxsAkDZ2dlG1Z8xxhhj5sPXb81EafFLTEzE0qVL8dprr0Eikci3V69eHcnJyUadOzs7GwDg6+sLADhz5gxevXqFNm3ayI+JiopC+fLlceLECQDAiRMnULNmTQQGBsqPad++PXJycnD58mWV5bx8+RI5OTkKN8YYY4yxkkSUwO/BgwfyPH5FPX36VCEQ1FdBQQEmTpyI5s2bo0aNGgCA9PR0ODk5wdvbW+HYwMBApKeny48pGvTJ9sv2qTJ37lx4eXnJb2FhYQbXmzHGGGPMGokS+DVo0AA///yz/G9ZsPftt9+iadOmBp937NixuHTpEjZv3mx0HbWZNm0asrOz5be7d++avEzGGGOMMXMSJY/f559/jo4dO+LKlSvIz8/H4sWLceXKFfz+++84evSoQeccN24c9uzZg2PHjiE0NFS+PSgoCHl5ecjKylJo9bt//z6CgoLkx5w6dUrhfLJZv7JjinN2doazs7NBdWWMMcYYswWitPi99tprOHfuHPLz81GzZk38+uuvCAgIwIkTJ1C/fn29zkVEGDduHHbu3InDhw8jMjJSYX/9+vXh6OiIQ4cOybddv34dd+7ckbcuNm3aFBcvXkRGRob8mAMHDsDT0xPR0dFGPFLGGGOMMdtlkgTOxhgzZgw2btyIXbt2oWrVqvLtXl5ecHV1BQCMHj0ae/fuxbp16+Dp6Yl3330XAPD7778DENK51KlTByEhIfjyyy+Rnp6OgQMHYvjw4fj88891qgcngGSMMcZsD1+/NTM48NNn1qs+T7y6ySBr167FkCFDAAgJnKdMmYJNmzbh5cuXaN++PZYvX67QjXv79m2MHj0aR44cgZubGwYPHox58+bBwUG33m1+4zDGGGO2h6/fmhkc+NnZ2ek8Y1cqlRpShEXxG4cxxhizPXz91szgyR1JSUny/9+6dQsffvghhgwZIh9nd+LECaxfvx5z5841vpaMMcYYY8xooozxa926NYYPH45+/fopbN+4cSNWr16NI0eOGFuE2fEvBsYYY8z28PVbM1Fm9Z44cQINGjRQ2t6gQQOltCqMMcYYY8wyRAn8wsLCsGbNGqXt3377La+AwRhjjDFmJURJ4Lxw4UL07NkT+/btQ+PGjQEAp06dwo0bN7Bjxw4ximCMMcYYY0YSpcWvU6dOuHHjBrp164bMzExkZmaia9eu+Pvvv9GpUycximCMMcYYY0ayugTO1oIHhzLGGGO2h6/fmhnc4nfnzh29jk9NTTW0KMYYY4wxJgKDA7+GDRvinXfewenTp9Uek52djTVr1qBGjRo81o8xxhhjzMIMntxx5coVzJkzB23btoWLiwvq16+PkJAQuLi44PHjx7hy5QouX76MevXq4csvv+SxfowxxhhjFmb0GL/nz5/j559/xv/+9z/cvn0bz58/h5+fH+rWrYv27dujRo0aYtXVrHiMAGOMMWZ7+PqtGU/uUIPfOIwxxpjt4eu3ZqKkc2GMMcYYY9aPAz/GGGOMsVKCAz/GGGOMsVKCAz/GGGOMsVKCAz/GGGOMsVLC4Dx+xd24cQNJSUnIyMhAQUGBwr5PP/1UrGIYY4wxxpiBRAn81qxZg9GjR8PPzw9BQUGQSCTyfRKJhAM/xhhjjDErIErg99lnn2HOnDn44IMPxDgdY4wxxhgzAVHG+D1+/BhvvvmmGKdijDHGGGMmIkrg9+abb+LXX38V41SMMcYYY8xEROnqrVSpEj755BP88ccfqFmzJhwdHRX2jx8/XoxiGGOMMcaYEURZqzcyMlJ9ARIJ/vnnH2OLMDte648xxhizPXz91kyUFr+UlBQxTsMYY4wxxkxI9ATORAQRGhEZY4wxxpjIRAv8fvjhB9SsWROurq5wdXVFrVq18OOPP4p1esYYY4wxZiRRunoXLFiATz75BOPGjUPz5s0BAP/73/8watQoPHz4EJMmTRKjGMYYY4wxZgTRJnfEx8dj0KBBCtvXr1+PmTNn2uQYQB4cyhhjjNkevn5rJkpXb1paGpo1a6a0vVmzZkhLSxOjCMYYY4wxZiRRAr9KlSph69atStu3bNmCypUri1EEY4wxxhgzkihj/OLj49GnTx8cO3ZMPsbvt99+w6FDh1QGhIwxxhhjzPxEafHr2bMnTp48CT8/PyQmJiIxMRF+fn44deoUunfvLkYRjDHGGGPMSKJM7iiJeHAoY4wxZnv4+q2ZwV29OTk58ic0JydH47H8xDPGGGOMWZ7BgZ+Pjw/S0tIQEBAAb29vSCQSpWOICBKJBFKp1KhKMsYYY4wx4xkc+B0+fBi+vr4AgKSkJNEqxBhjjDHGTMPgwC8mJkb+/8jISISFhSm1+hER7t69a3jtGGOMMcaYaESZ1RsZGYkHDx4obc/MzERkZKQYRTDGGGOMMSOJEvjJxvIVl5ubCxcXFzGKYIwxxhhjRjIqgfPkyZMBABKJBJ988gnKlCkj3yeVSnHy5EnUqVPHqAoyxhhjjDFxGBX4nT17FoDQ4nfx4kU4OTnJ9zk5OaF27dqYOnWqcTVkjDHGGGOiMCrwk83mHTp0KBYvXsz5+hhjjDHGrJgoa/WuXbtWjNMwxhhjjDETEiXwa9Wqlcb9hw8fFqMYxhhjjDFmBFECv9q1ayv8/erVK5w7dw6XLl3C4MGDxSiCMcYYY4wZSZTAb+HChSq3z5w5E7m5uWIUwRhjjDHGjCRKHj913nrrLXz//femLIIxxhhjjOnIpIHfiRMnOIEzY4wxxpiVEKWrt0ePHgp/ExHS0tLw559/4pNPPhGjCMYYY4wxZiRRAj8vLy+Fv+3s7FC1alXMmjUL7dq1E6MIxhhjjDFmJM7jxxhjjDFWSph0jB9jjDHGGLMeBrf4+fj4QCKR6HRsZmamocUwxhhjjDGRGBz4LVq0SMRqMMYYY4wxUzM48OMVORhjjDHGbIvBgV9OTo7Ox3p6ehpaDGPMRkmlwPHjQFoaEBwMtGgB2NtbulaMMVa6GRz4eXt7ax3jR0SQSCSQSqWGFsMYs0EJCcCECcC9e4XbQkOBxYuBYmk/GWOMmZHBgV9SUpKY9WCMlRAJCUCvXgCR4vbUVGH79u0c/DHGmKVIiIp/PTNA6Mr28vJCdnY2d1UzpiOpFIiIUGzpK0oiEVr+UlK425cxZhp8/dZMlATOAJCVlYXvvvsOV69eBQBUr14dw4YNU1rVgzFWch0/rj7oA4RWwLt3hePeeMNs1WKMMfYfURI4//nnn6hYsSIWLlyIzMxMZGZmYsGCBahYsSL++usvvc937NgxdO3aFSEhIZBIJEhMTFTYP2TIEEgkEoVbhw4dFI7JzMzEgAED4OnpCW9vb7z99tvIzc015mEyxrRISxP3OMYYY+ISJfCbNGkSunXrhlu3biEhIQEJCQlISUlBly5dMHHiRL3P9/TpU9SuXRvLli1Te0yHDh2QlpYmv23atElh/4ABA3D58mUcOHAAe/bswbFjxzBy5Ei968IY011wsLjHMcYYE5coY/xcXV1x9uxZREVFKWy/cuUKGjRogGfPnhleQYkEO3fuRFxcnHzbkCFDkJWVpdQSKHP16lVER0fj9OnTaNCgAQBg//796NSpE+7du4eQkBCt5fIYAcb0Jxvjl5qqPLkD4DF+tojT8jBbw9dvzURp8fP09MSdO3eUtt+9exceHh5iFKHkyJEjCAgIQNWqVTF69Gg8evRIvu/EiRPw9vaWB30A0KZNG9jZ2eHkyZMqz/fy5Uvk5OQo3Bhj+rG3F1K2AEKQV5Ts70WLOHCwFQkJQiDfsiXQv7/wb0SEsJ0xZptECfz69OmDt99+G1u2bMHdu3dx9+5dbN68GcOHD0e/fv3EKEJBhw4d8MMPP+DQoUP44osvcPToUXTs2FGeLzA9PR0BAQEK93FwcICvry/S09NVnnPu3Lnw8vKS38LCwkSvN2OlQY8eQsqWcuUUt4eGcioXWyJLy1N8so4sLQ8Hf4zZJlFm9X711VeQSCQYNGgQ8vPzAQCOjo4YPXo05s2bJ0YRCvr27Sv/f82aNVGrVi1UrFgRR44cQevWrQ0657Rp0zB58mT53zk5ORz8MWagHj2A2FjuIrRVUqmQgFtVdz2R0Ho7caLwGvNryphtESXwc3JywuLFizF37lwkJycDACpWrIgyZcqIcXqtKlSoAD8/P9y8eROtW7dGUFAQMjIyFI7Jz89HZmYmgoKCVJ7D2dkZzs7O5qguY6WCvT2nbLFVnJaHsZJLlK5emTJlysDb2xve3t5mC/oA4N69e3j06BGC/5sq2LRpU2RlZeHMmTPyYw4fPoyCggI0btzYbPVijDFbxGl5GCu5RAn88vPz8cknn8DLywsRERGIiIiAl5cXpk+fjlevXul9vtzcXJw7dw7nzp0DAKSkpODcuXO4c+cOcnNz8d577+GPP/7ArVu3cOjQIcTGxqJSpUpo3749AKBatWro0KEDRowYgVOnTuG3337DuHHj0LdvX51m9DLGWGnGaXkYK7lESecyevRoJCQkYNasWWjatCkAYWbtzJkzERcXhxUrVuh1viNHjqBly5ZK2wcPHowVK1YgLi4OZ8+eRVZWFkJCQtCuXTvMnj0bgYGB8mMzMzMxbtw4/N///R/s7OzQs2dPfPPNN3B3d9epDjwdnDFWWnFaHmbL+PqtmSiBn5eXFzZv3oyOHTsqbN+7dy/69euH7OxsY4swO37jMMZKM9msXkAx+JOl5eEZ2sxa8fVbM1G6ep2dnREREaG0PTIyEk5OTmIUwRhjzIw4LQ9jJZMoLX6zZs3CtWvXsHbtWvnM2JcvX+Ltt99G5cqVMWPGDKMram78i4ExxnjlDmZ7+PqtmSjpXM6ePYtDhw4hNDQUtWvXBgCcP38eeXl5aN26NXoU+WmYwFk/GWPMZnBaHsZKFlECP29vb/Ts2VNhGyc/ZowxxhizLqIEfmvXrhXjNIwxxhhjzIRETeDMGGOMMcasFwd+jDHGGGOlBAd+jDHGGGOlBAd+jDHGGGOlhNGB36tXr9C6dWvcuHFDjPowxhhjjDETMTrwc3R0xIULF8SoC2OMMcYYMyFRunrfeustfPfdd2KcijHGGGOMmYgoefzy8/Px/fff4+DBg6hfvz7c3NwU9i9YsECMYhhjjDHGmBFECfwuXbqEevXqAQD+/vtvhX0SiUSMIhhjjDHGmJFECfySkpLEOA1jjDE1pFLg+HEgLQ0IDgZatBDW0WWMMX2IEvgxxhgznYQEYMIE4N69wm2hocDixUCPHparF2PM9hgc+PXo0QPr1q2Dp6cnemj55klISDC0GMYYK9USEoBevQAixe2pqcL27ds5+GOM6c7gwM/Ly0s+fs/Ly0u0CjHGGBNIpUJLX/GgDxC2SSTAxIlAbCx3+zLGdCMhUvWVwnJycuDl5YXs7Gx4enpaujqMsVLoyBGgZUvtxyUlAW+8YeraMGYb+PqtGS/ZxhhjViotTdzjGGNMtMkd27dvx9atW3Hnzh3k5eUp7Pvrr7/EKoYxxkqN4GBxj2OMMVFa/L755hsMHToUgYGBOHv2LBo1aoSyZcvin3/+QceOHcUogjHGSp0WLYTZu+rSoUokQFiYcBxjjOlClMBv+fLlWL16NZYsWQInJye8//77OHDgAMaPH4/s7GwximCM6UAqFcaFbdok/CuVWrpGzBj29kLKFkA5+JP9vWgRT+xgjOlOlMDvzp07aNasGQDA1dUVT548AQAMHDgQmzZtEqMIxpgWCQlARIQwGaB/f+HfiAhhO7NdPXoIKVvKlVPcHhrKqVwYY/oTJfALCgpCZmYmAKB8+fL4448/AAApKSngScOMmZ4s11vRBL9AYa43Dv5sW48ewK1bwuzdjRuFf1NSOOhjjOlPlMkdrVq1wu7du1G3bl0MHToUkyZNwvbt2/Hnn39qTe7MGDMO53orHeztOWULY8x4ouTxKygoQEFBARwchDhy8+bN+P3331G5cmW88847cHJyMrqi5sZ5gJit4FxvjDFWiK/fmonS4mdnZwc7u8Je4759+6Jv375inJoxpgXnemOMMaYr0fL4MVbSSaXA8eNCABUcLKTQsIauU871xhhjTFe8cgdjOrDmGbOc640xxpiuOPBjTAtdZ8xaKoce53pjjDGmK6MDPyLCnTt38OLFCzHqw5hV0TZjFhBmzG7bZtkWQc71xhhjTBdGz+otKCiAi4sLLl++jMqVK4tVL4vjWUEM0H3GrCqy1jZzBl7WOg6RMcbMha/fmhk9ucPOzg6VK1fGo0ePSlTgxxhg3ExYS+TQEzPXGweRjDFW8ogyxm/evHl47733cOnSJTFOx5jVMHYmLBFw964QQNkSa57MwhizMbyCl1URJfAbNGgQTp06hdq1a8PV1RW+vr4KN8ZslbYZs7qypRx6vPwbY8xoeXnAr78CY8YIX6I3b1q6Ruw/ouTxW7RokRinYczqyGbM9uolBH9Ff7gW/1sTW8mhx8u/McYMlpMD7N8PJCYCP/8s/C2zezcwebLFqsYKibJkW0nEg0NZUQkJQkBUtBUsLAxYsACYNEloDVP1SZJIhB+7KSm2ESiZc/k3HkPIWAmQni4EdYmJwKFDQkufTGCg8CsxNhZo1QpwcTFLlfj6rZloK3ckJydj7dq1SE5OxuLFixEQEIB9+/ahfPnyqF69uljFMGYRPXoI312qAhU7O/UtgoBt5dAz1/JvqgLp0FChdZVTzzBm5f7+Wwj0EhOBP/5Q/OKrXBno3h2IiwMaNxa+IJlVESXwO3r0KDp27IjmzZvj2LFjmDNnDgICAnD+/Hl899132L59uxjFMGZR6mbMynLoqQpkFi2yrUDGHMu/ycYQFm8hlY0h5LyDjFmZggLg9Glg1y4h2Lt6VXF/w4aFwV5UlPGDoplJidLV27RpU7z55puYPHkyPDw8cP78eVSoUAGnTp1Cjx49cK/4KHEbwE3FTF8loetSKhVm75qq61p2fnVfCbbWNc5YiZWXJ4zpSEwUAr6izfwODsKYkO7dgW7dlDPHWxhfvzUTpcXv4sWL2Lhxo9L2gIAAPHz4UIwiGLN6YubQsxRtk1kA47qujx9XH/QBiulvbP25ZMzm5OQA+/YJgV7xyRkeHkCnTsKYl44dAW9vi1WTGUeUwM/b2xtpaWmIjIxU2H727FmUs7JfAowxzTR1XX/9NeDrK6xHbEirprnGEDLGdJSWpjg549Wrwn1BQUKgFxcntPA5O1uqlkxEogR+ffv2xQcffIBt27ZBIpGgoKAAv/32G6ZOnYpBgwaJUQRjzIxUTWZ5+FCYwWzMhAxzjCFkjGlx/bri5IyiqlQRAj2enFFiiTLGLy8vD2PHjsW6desglUrh4OAAqVSK/v37Y926dbC3wcE6PEaAsULqJmToux6xqccQMsZUkE3OkAV7164p7m/USHFyho3j67dmoubxu3v3Li5evIjc3FzUrVvXptfu5TcOYwKxJ2TIgkhA9RhCntXLmAg0Tc5wdBTy6sXFCZMzQkIsVUuT4Ou3ZqJ09c6aNQtTp05FWFgYwsLC5NufP3+O+fPn49NPPxWjGMaYBYg9IaMkpb9hzKrIJmckJgJ796qenBEXJ0zO8PKyVC2ZhYnS4mdvb4+0tDQEBAQobH/06BECAgIglUqNLcLs+BcDY4JNm4D+/bUft3Ej0K+f7uctCelvGLM4XSZndO8u/CorJZMz+PqtmSgtfkQEiYqEjefPn4evr68YRTDGLMRUEzJKQvobxkxN5Q+kmxomZ1StWjg5o1EjnpzBlBgV+Pn4+EAikUAikaBKlSoKwZ9UKkVubi5GjRpldCUZK62soVWsRQuhG1bbhIwWLcxbL8ZKOtnShqn3CtAQpxGHRJRzSETl/GKTMxo3Lgz2SsDkDGZaRgV+ixYtAhFh2LBhiI+Ph1eRMQNOTk6IiIhA06ZNja4kY6WRtaxna+qkzowxZYlbXmJN3yR8jER0w26E4L/JGflAHhzxuE4rBL4TVyInZzDTEmWM39GjR9G8eXM4OIjSc2wVeIwAsySx0qeIXafigWhYGE/IYEw02dnAvn0o2JmIp9v2woOeyHflwAN70Qm7EIt96ATPMC9Oe6QGX78148kdavAbh1mKNa9naw1dz4yVKP/+Wzg54/BhhckZ/yIYuxCLRMThCN5AHhQnZyQl8ThZVfj6rZlokztUefnyJZycnMQogrFSw5rXs+UJGYyJ4Nq1wskZJ08q7ouKwpUqcRi6Ow6n0RAE9ZMzeGlDZgijAr9vvvkGACCRSPDtt9/C3d1dvk8qleLYsWOI4oGmzARKcssTr2fLWAlTUACcOlUY7F2/rri/SRNhYkZsLBAVhYwjwKnd2k/LSxsyQxgV+C1cuBCA0OK3cuVKhaXZZJM7Vq5caVwNGSvGWiY9mAqvZ8tYCfDypdB1u2uXcEtPL9zn5AS0bi0Ee127Kn2YeSY9MyVRxvi1bNkSCQkJ8PHxEaNOVoHHCFgna5z0IDZez5YxG5WdLayYkZgorKDxpHByBjw9hRUzuncX/tVyXeGlDQ3H12/NRF2rtyThN471seZJD2LjL33GbERqauHkjKQkxZUzgoML8+u98YbQ0qcHnklvGL5+ayZa4Hfv3j3s3r0bd+7cQV5ensK+BQsWiFGEWfEbx/ocOQK0bKn9OFUz3WxxTCB/6TNmhYgKJ2fs2qU8OaNatcLxeg0bGr1yhi1+d1kaX781E2VW76FDh9CtWzdUqFAB165dQ40aNXDr1i0QEerVqydGEYwZPOnBVscE9ughXDv4S58xCysoEAI82eSMv/9W3N+0aWGwV7WqqEXzTHomNlEW8Zs2bRqmTp2KixcvwsXFBTt27MDdu3cRExODN998U+/zHTt2DF27dkVISAgkEgkSExMV9hMRPv30UwQHB8PV1RVt2rTBjRs3FI7JzMzEgAED4OnpCW9vb7z99tvIzc015mEyCzNk0oOsy7R493BqqrA9IUG8+pmC7Eu/Xz/hXw76GDOTly+FcXrvvCOsjNGsGfDll0LQ5+QkjNNbtUrIw/f778D774se9DFmCqIEflevXsWgQYMAAA4ODnj+/Dnc3d0xa9YsfPHFF3qf7+nTp6hduzaWLVumcv+XX36Jb775BitXrsTJkyfh5uaG9u3b48WLF/JjBgwYgMuXL+PAgQPYs2cPjh07hpEjRxr2AJlVkM10K7IktAKJROgKlc10k0qFlj5Vgxlk2yZOFI5jAqlU6FLftEn4l58bVqpkZwtv/j59AD8/oFMnYPVq4P59YTJGv37Ali3AgwfCJI6RI3l6PbM9JILAwEC6cuUKERFVq1aNdu3aRURE586dIzc3N6PODYB27twp/7ugoICCgoJo/vz58m1ZWVnk7OxMmzZtIiKiK1euEAA6ffq0/Jh9+/aRRCKh1NRUncrNzs4mAJSdnW1U/Zm4duwgkkiEmxC+CTfZth07Co9NSlI8Rt0tKclSj8a67NhBFBqq+NyEhio+p4yVOPfuES1fTtSuHZGjo+IHICSEaPRool9+IXr50tI1ZTri67dmorT4NWnSBP/73/8AAJ06dcKUKVMwZ84cDBs2DE2aNBGjCLmUlBSkp6ejTZs28m1eXl5o3LgxTpw4AQA4ceIEvL290aBBA/kxbdq0gZ2dHU4WH4jLbEqPHsKM1nLlFLeHhirPdOVEyLqz9S5xxnRGBFy5Anz+OdC4sfDlMWYM8OuvwozcatWADz8UxvTdvQssXw60a6f3jFzGrJUokzsWLFggHz8XHx+P3NxcbNmyBZUrVxZ9Rm/6f0kwAwMDFbYHBgbK96WnpyutG+zg4ABfX1/5McW9fPkSL1++lP+dk5MjZrWZiHSd9MCJkHWjrUtcIhG6xGNjeYwhs1FSqeLkjKJjwiUSYXJGbKxJJmcwZm1ECfwqVKgg/7+bm5tNrtYxd+5cxMfHW7oaTEe6zHTj7Pe6sea1gRkz2IsXwsoZiYlCnr379wv3OTkBbdoIgV63bkBQkMWqyZi5iRL4FZWbm4uCggKFbWLm0Qn67wN6//59BBdpqrl//z7q1KkjPyYjI0Phfvn5+cjMzJTfv7hp06Zh8uTJ8r9zcnIQFhYmWr2Z+dnbCylbevUSgjxViZAXLeJWLO4SZyVGVpbiyhlFMzl4egJdughpVzp0ADw8LFRJxixLlMAvJSUF48aNw5EjRxRm1hIRJBIJpCJODYyMjERQUBAOHTokD/RycnJw8uRJjB49GgDQtGlTZGVl4cyZM6hfvz4A4PDhwygoKEDjxo1VntfZ2RnOzs6i1ZNZB9mYQFV5/EpLImRtCWC5S5zZtHv3FFfOyM8v3BcSUphfz4CVMxgriUQJ/N566y0QEb7//nsEBgZCoi7fho5yc3Nx8+ZN+d8pKSk4d+4cfH19Ub58eUycOBGfffYZKleujMjISHzyyScICQlBXFwcAKBatWro0KEDRowYgZUrV+LVq1cYN24c+vbti5CQEKPqxmxPaU6ErEvyalvsEufVDEoxIuDq1cLxeqdPK+6vVk1YDzcuDqhf3+iVMxgrccSYGuzm5kbXrl0T41RERJSUlEQAlG6DBw8mIiGlyyeffEKBgYHk7OxMrVu3puvXryuc49GjR9SvXz9yd3cnT09PGjp0KD158kTnOvB0cGbrZKlviqevUZX6Rp80OZbGaWdKofx8ot9+I3rvPaLKlZXfpM2aEX35JVGx6wArnfj6rZkoa/W2bNkSH3/8sUKKFVvHa/0xWyaVAhER6idtyFrxUlIKW8psYW1gWdqZ4t9ask6G4il9mA3TZXJG9+5A165AsSwPrHTj67dmogR+ycnJGDVqFN566y3UqFEDjo6OCvtr1aplbBFmx28cZmmqujMB3bo4jxwBWrbUXkZSkuJMXWvuQjUkmGU25vFjxckZT58W7vPyKpyc0b49T85gavH1WzNRxvg9ePAAycnJGDp0qHybRCIxyeQOxvRhzYGMJqpa38qWFf599KhwW/HxejKGztS15gXhOe1MCXXvHrBrlxDsHTmiODmjXDlhgG5cHBATw5MzGBOBKIHfsGHDULduXWzatEmUyR2MiUGXiQ3WSF13ZtGAT0a2skbxLs6SOFPXlGlnbPUHgk2SrZwhm5zx55+K+6tXFwI92eQMvp4wJipRunrd3Nxw/vx5VKpUSYw6WQVuKrZttjoWTFt3piqqujhl59E2U9eWukUN7b7WxlZ/INgUqRT444/CYK9I1gZIJECzZoVpVypXtlAlWUnB12/NRAn8unbtiiFDhqBnz55i1Mkq8BvHdhRvrWnWDKhY0TxjwcRuKdI1uFGleMAjC34B1cmrrTX4VccUwayt/kCwCS9eAIcOFU7OKJpU38kJaNtWCPZ4cgYTGV+/NROlq7dr166YNGkSLl68iJo1aypN7ujWrZsYxTCmRFVrjZ8f8PCh+vuINRbMFC1FxqyOUfy+JS15tdgrsfAaxSbAkzMYs3qitPjZaUiQaauTO/gXg/VT11qjq40bgX79DC9bVQO3sS1FYrb4yZS08WtipZ0xVddxqXP3buHKGcUnZ4SGKk7OKNYowJgp8PVbM1Fa/IqvzcuYqWlqrdGVoRMbpFJg5EjV+2T1GTFCaOB44w39gixtq2ioom1lDWueqWsIsVZi4TWKDUQEXL4sBHq7dilPzqhRo3ByRr16PDmDMSsjSuDHmLlpS+2hibFLkM2Zo3qGbVGZmUJ+WX27fjV1Z6piSBdnSSBGMFsSZz6bjFQKnDhRODkjOblwn2xyhqxljydnMGbVOPBjNsnQVhhjAyWpVAjMdKUu3Yom6sbmqcvjZ4vj9ayBLa5RbFbPnytOznjwoHCfs3Ph5IwuXXhyBmM2hAM/ZpN0bYXx91e8XhkbKB0/LrTm6crQSQLqujNldSgp4/UsSezJIiXC48fAzz8Lwd7+/YqTM7y9FSdnuLtbqJKMMWNw4Mdskq6tNTdvAr//Ll6gZEhLo6GziNV1Z5ak8XqWVtJmPhvk7l3FlTOKTsYLCyvswn39dZ6cwVgJwIEfs0m6ttY4OYkbKBkz3osnCVgnsSaL2IyikzMSE4EzZxT38+QMxko00QK/5ORkrF27FsnJyVi8eDECAgKwb98+lC9fHtWrVxerGFYK6Jp+xBKtNYbMupXhSQLWq6TNfFaiy+SM7t2FCLgErcDEGFMmSh6/o0ePomPHjmjevDmOHTuGq1evokKFCpg3bx7+/PNPbN++XYy6mhXnAbIMQ5IiG5qnztD7qVsRQx1bWh6tpOX8MzWrfr50nZzRtSsQEGCpWjImOr5+a0EiaNKkCX399ddEROTu7k7JyclERHTy5EkqV66cGEWYXXZ2NgGg7OxsS1el1Nixg0giIRLCqcKbRCLcduwQt6zQUMVyQkN1L0PV/VXdTFF3UzH2OSltrPL5yswk+vFHop49idzcFCvn7U00cCDR9u1ET55YsJK2Lz+fKCmJaONG4d/8fEvXiBXF12/NRAn83Nzc6J9//iEixcAvJSWFnJ2dxSjC7PiNY175+ZoDKYmEKCxMnC9YsQLM4l/+27YpP4awMNsInMwZdJcEVvV83b5N9M03RK1aEdnbK78B332X6NAhorw8M1aq5LLKgJ8p4Ou3ZqJ09YaGhmLr1q1o1qwZPDw8cP78eVSoUAE7d+7E1KlTkVx0PImN4KZi8zLX8llSKRARoT75s7Hdslbd9aeGqZ+TksbizxcRcOlS4Xi9v/5S3F+zpjBWLzYWqF+fJ2eISN0ykcYu1cjExddvzUSZ3NG3b1988MEH2LZtGyQSCQoKCvDbb79h6tSpGDRokBhFsBLOXMtnaVvxw9DUKzK2OEnA1M9JSWOR50vb5IzXXhPG68XGAhUrilQoK0rTMpGG5utkzBJECfw+//xzjB07FmFhYZBKpYiOjoZUKkX//v0xffp0MYpgJZy5ls8qLeuz6tPyWFqeE7GY7fl6/hw4eFAI9P7v/5QnZ7RrV7hyBk/OMDn+gcRKClECPycnJ6xZswaffvopLl68iNzcXNStWxeVec1GpiNzLZ9VGtZn1XdmdGl4TsRk0ucrM1Nx5Yxnzwr3+fgAnTsLaVfatZOvnCGVAseP2NbwAlvEP5BYiSHGQMH4+Hh6+vSp0vZnz55RfHy8GEWYHQ8ONT/ZgPnig+bFHDAvm0SiamC+2JNILMGQSQcl4Tkx5yxL0Z+vW7eIFi8matlS78kZPNHAfJKStM/iB4TjmGXx9VszUQI/Ozs7un//vtL2hw8fkp2dnRhFmB2/cSxD1YVM7Jmx5ggwLcGYmdG2/JxYIvgx6vkqKCA6f54oPp6obl3lF6pmTaLp04nOnBGO1VIHq5hZXAqUhB9IpQVfvzUTJfCTSCSUkZGhtP3QoUPk5+cnRhFmx28cyzFH6405AkxzM7ZFwhafE0sGP3o9X/n5REePEk2aRBQZqXgnOzuiFi2Ivv6a6OZNncp++ZLIz8+wIJ8ZzpZ/IJUmfP3WzKh0Lj4+PpBIJPIp05IiaQOkUilyc3MxatQoLFu2zMgOafPj6eAlny2mXtFk0yagf3/tx23cCPTrp3qfLT0nFk+rAi3P1/PnwIEDhZMzHj4svKOLS+HKGXpOzkhIAEaNUpzroY6x6Y+YMlVjaMPCTLdMJNMfX781M2pyx6JFi0BEGDZsGOLj4+Hl5SXf5+TkhIiICDRt2tToSjJmCraYekUTMSYd2NJzYg2zLJWer0ePCidn/PKL8uSMrl2FYK9dO8DNTe/y1OWRU4cnGoivRw8hZYut/EBirDijAr/BgwcDACIjI9GsWTM4OjqKUinGilPXsmJLLVSmZq6Z0dbCamZZ3r4N7NolBHvHjglvSpny5YVALy5OyLVnxHekpjxy6vBMbNOwpR9IjBUnSjqXmJgY+f9fvHiBvLw8hf3c1MqMoS49Sb9+QvemrmlLSjp7e+Gx9+olBHlFAwTZKIxFi0pOYGyxNDREwMWLhcmUz55V3F+rVmGwV6eOaCtnaGvhLKqkBfmMMfGIEvg9e/YM77//PrZu3YpHjx4p7ZcW/QXMmB7UdW3duwfMn698fGqqcHxpXTqpRw9g6lRgwQLFhic7O2Dy5JL1nJi1hTM/H/jtt8KWvZSUwn12doUrZ8TFAZGRIhSoTN+Wy5IU5DPGxCNK4Pfee+8hKSkJK1aswMCBA7Fs2TKkpqZi1apVmDdvnhhFsFLIkK4ta1k6yVJd0AkJwFdfKT9nUqmwvUkTw4I/a+xSN3kL57NnipMziv6odXERxunFxgrj9vz9DSxEd7q2XPr7AytXlqwgnzEmIjGmBoeFhVHSfzkiPDw86MaNG0RE9MMPP1DHjh3FKMLsSvt0cHMmxFVH1/Qk5kqkqutzYqmkusbk8dPE2pMEi5qG5uFDovXrieLiiFxdFU/q60s0eDDRzp1EubkiPwrttOWRA4j8/YVUL4yVZqX9+q2NKIGfm5sb3b59m4iIypUrRydPniQion/++Yfc3NzEKMLsSvMbx1ou9Bs3Ghf4bdwoXl10fU4MXTlDjCDbFCsL2EqSYKOew5QUokWLVK+cER5ONGEC0eHDRK9emaLqeuE8coxpV5qv37oQJfCrWbMmHTlyhIiIWrduTVOmTCEiosWLF1O5cuXEKMLsSusbx5ou9NbS4qfuOZHdtm0TjjOkxU3MIFvXQFnXgNhULYgWV1BAdO4c0cyZRHXqKD+wWrWIZswgOntW48oZlmKLibYZM6fSev3WlVEJnGUWLlwIe3t7jB8/HgcPHkTXrl1BRHj16hUWLFiACRMmGFuE2ZXGBJCWSoirKVVLRIT6wfvqiFlPbc8JIJSxaZMwtqplS+3nXLgQePddYZ6AqokrsvFp+k5QOXJEt/J1Teor9vksSjY5QzYT99atwn12dsKbLi5OGLNnoskZYrLGMZeMWYvSeP3WhyiBX3G3b9/GmTNnUKlSJdSqVUvs05tFaXzjWOJCry5Viywli2xWL6Bb8Gdo0FSc7MJ66BDw2We63WfiRGEygS5CQ4WFHVRMggdgWPCqLVDW95xirARiUbpMzujeXVg5w8/PYtVkjImrNF6/9SHKrN7iwsPDER4ebopTMxMSIyGuPi0R6lK1FE/Jsn276iWS+vZVncfP2KWTVAWjutiwQfdjtZ2bSP9VJ8Se5WqxPHnGePQI2LOncOWM588L9/n6Fq6c0batQStnMMaYrTO4xe+bb77R+djx48cbUoRFlcZfDMa2+GlrvStK325lc63coe+SWMX5+wtLsorVjm5Ia5pYa4mK3YJoMikpQr/5rl3CyhkFBYX7wsOF7tvu3YVcew4m+a3LGLMipfH6rQ+DA79IHcfBSCQS/PPPP4YUYVGl8Y1jzIVeXcCkruvVGseP6TKeT5uJE4VAFxAn+DP08YsVEKvraherS90gRMD584Xj9c6fV9xfp44Q7MXFAbVri7ZyBmPMNpTG67c+DP75m1I0cz0rEQztKtSUaJlIdUJlq1lntQh9lsRSJzZWCLIM6SouythVJ8RaS1RdV7usSz02VgjiTT7JID8f+N//CoO927cL99nZAa+/LgR63brZxOQMS+PJIYyVXtzvwRRou9Crat3RFjCpGq+m67iw+/eFi5QYs3O1XeiMDTL9/YFmzQAnJyEgWrIEmDRJ//NY27q6PXoIj6f487drl3ILqahrJT97Bvz6a+HkjMzMwn0uLkD79kKwx5Mz9KLPkAzGWMkjyqzeYcOGadz//fffG1uE2ZX2pmJ9WgQMmf2pT6oWYy9Kul7odO1+1qToeXXpOvf1FWKY1NTC7YaMxzM3fbv2dfbwYeHkjF9/VZycUbas4uSMMmUMrH3pZbLXjTErUtqv39qIEvh1795d4e9Xr17h0qVLyMrKQqtWrZCQkGBsEWbHbxzdzZoFzJih/bji49V0TdVizEVJnwudVCoEuQ8e6FeGpvPqMkZOVWuaNbT0qSN6vkfZ5IzEROGJKD45o3t3Idhr3pwnZxjBUnk6GTM3vn5rZpI8fgBQUFCA0aNHo2LFinj//fdNUYRJ8RtHNwkJQM+emo/RNilEl/FwEonQm7dwIVCunG7BkSEXukmTdMvFV3wMpKbzijXL1loYPTFHl8kZcXHCrVYtnpwhEmucUMWYKfD1WzM7k53Yzg6TJ0/GwoULTVUEszDZpA5dqBuv1qOHsIiCtrcJkdAS99ZbwsUrIkIIqDTRdezhkiXCYwGE4WK60PRzqeiYRqDwMSYlCd3dSUlCUGiLQR9g4MSc/Hwh8pg4UZh8UbcuEB8vBH329sKLumiR8MScPSs0IdvwjFypVHi4mzYJ/8reX5ZkjROqGGPmZ9J+k+TkZOTn55uyCGZBus6CnTlTc5Bjbw8EBupXdvEkz6roegGbNAn4+mthbJ6Xl3710KRo+WLNsrUGuk7MKef9FNj53+SMPXsUJ2e4ugqTM7p3Bzp3FsbvlRDWOnnCJhNyM8ZEJ0rgN3nyZIW/iQhpaWn4+eefMXjwYDGKYFZI18CqcmXtx+h7sVGXJsbQc8oCSTGXlS6pF9AWLYRARtWkFT88QFfsQV+XRLTo8Svw4kXhTtnkjNhYYbm0Ejg5Q9fVaCxB0+sGGJ9CiDFmG0QZ49ey2MAROzs7+Pv7o1WrVhg2bBgcbHBANo8R0E7MMUP6zPLV9fz6nlM2jlCXyR2aVugoDYPki05aCacUxCERcUjEa/gf7FFkckZkZOF4vWbNSvTkDFuYPGGVCbkZExlfvzUT5Vs4KSlJjNMwGyNmC4Km5NHaqGt51PecsnGEugR1CxYAvXuLsyauzSFCj8hzuNwrEZSYiOhXFxR2Z0XWhfeQOCHYq1nTZsfp6cuQfJbmZkieTsZYySLK5I6UlBTcuHFDafuNGzdw69YtMYpgVkgWWAHK13ZDAiDZRalcOf3qoalL1ZBzDhgg/KvpMcm67YqfNzS0hLaa5OcLTasTJgjNWvXqodq2WYh+dQFkZ4/70W/gxrjFkCbfgvc/fwGfflrqZuTayuSJkjbZiDGmH1G6emNiYjBs2DCl8Xw//fQTvv32Wxw5csTYIsyOm4p1J3a6Elny6NRUYQzfw4eqj1PVdaYu8bRUqvtKGklJwjwEXR6TWEtfWeUSWk+fFq6coWpyRocOQqteCZucYShOl8KYdeDrt2aiBH6enp7466+/UKlSJYXtN2/eRIMGDZCVlWVsEWbHbxz9mCpw0XVMklQKzJkjtEAWjU/0XUmjaCBprmDMqmaBPnhQuHLGgQOqV87o3h1o06ZETs4whr7vL8aYafD1WzNRxvhJJBI8efJEaXt2djak1pDAipmcqdKV6DImKSEBGDkSePRI+f7FZ1OqG/OnqmvaHClYrGIW6D//FK6c8b//Ka6cERFRuHJGCZ+cYSxNY0pLxdhPxphNEKXFr2vXrnB1dcWmTZtg/9+3mlQqRZ8+ffD06VPs27fP6IqaG/9isC7qWt/UBU5FWetKGhabBUoEnDtXuHLGBcXJGahbVwj0YmNL3Tg9MVjL+4ux0oqv35qJEvhduXIFr7/+Ory9vdHivymcx48fR05ODg4fPowaNWoYXVFz4zeO9dMWOBVXdGyVPt24puryNeuYsPx84UHIgr07dwr32dsDr79eGOyFhxtZGLPKMZuMlRJ8/dZMlH6b6OhoXLhwAUuXLsX58+fh6uqKQYMGYdy4cfD19RWjCMaUzJmje9AHGLaShinH35l8FujTp8AvvwjduP/3f8Djx4X7ypQRJmfExpb6yRmmCNJK0kotjLGSRbQBOyEhIfj888/FOh1jGiUkCMu56kPflTRMPf7OJEtoPXggBHmyyRlFV87w81OcnOHqqk91SySrmljDGGNmYHBX74ULF1CjRg3Y2dnhQvExQsXUqlXLoMpZEjcVWy99u3gBYYyVPmPlzDH+TrRZoMnJhZMzfvtNcXJGZKTi5Azub5RTF9jzKhaM2Ta+fmtmcOBnZ2eH9PR0BAQEwM7ODhKJBKpOJZFIbHJmL79xzMOQbjZdx8YVtWOHfhdxc42/M2gJLSLg7NnC8XoXLyrur1evcLxeKVo5Qx+2sLwaY8wwfP3WzOCu3pSUFPj7+8v/z5i+DO1m02fMm6cn8O23+rfcmGsVBp2X0Hr1SnFyxt27hQfb2wMxMYXBXvnyxlWqFDD38mo82YMxZi0MDvzCi8z8u337Npo1awaHYjm+8vPz8fvvvyscyxhg3Pg5fca85eQAkycLF1l9gj+TjL9To0cPIV5TCgye5wI7/pucsWePwuQMKlMGDxt0xM3qsZB26IymnX05kNCDOZdX43GEjDFrIko6F3t7e6SlpSEgIEBh+6NHjxAQEMBdvQyAcUuxFT+PprFxqs4H6Ddmy2KrMGRkKE7OePmycJ+/P9C1K34P7I7BP7TGzdTCyRkcSOjH3F35tjqOkFsqmS3i67cWJAKJREIZGRlK269fv04eHh5iFKFgxowZBEDhVrVqVfn+58+f05gxY8jX15fc3NyoR48elJ6erlcZ2dnZBICys7PFrn6ptGMHUWgokXAJ1O2WlKT5fBKJcNPlXBIJUVgYUX6+fnVWVYZs244dup8rP194PBs3Cv8q1OPmTaKvviJ67TXlwipUIJoyhej4caL8fHmdVD0+fetUmuXnC+9Hde8fQ94v6soQ8z1pTqo+s6Gh/B5j1o+v35oZlc6lx38/VSUSCYYMGQJnZ2f5PqlUigsXLqBZs2bGFKFW9erVcfDgQfnfRbuZJ02ahJ9//hnbtm2Dl5cXxo0bhx49euC3334zSV2YZrqsrqGKpm42dWPj1NF3zFZenpDjuH174MQJIDu7cJ/S+DstlLv6CB0CzmLB64modm0ncOmSYl3r14ckNlaYjVu9urx5SCoVzqPqeSQSDps4Ueg25lYZzcyxvJq5xxGKySqWEmSMmYRRgZ+XlxcAgIjg4eEB1yJ5wZycnNCkSROMGDHCuBqq4eDggKCgIKXt2dnZ+O6777Bx40a0atUKALB27VpUq1YNf/zxB5o0aWKS+jDV8vKAUaP0D/oA7ePnio6N27EDWLpU+zlVBZPFu7P27BEu+kVHKNjZAZ06AVOm6NfdJbuA2tMrtMIxxCERsdiF8hl3ge3CMfmwxxG8gUTEYTe6ge6Xx+LqQI9iC97YciBhjXSeWGMgc44jFBP/wGCsZDMq8Fu7dq08hcuSJUvg7u4uSqV0cePGDYSEhMDFxQVNmzbF3LlzUb58eZw5cwavXr1CmzZt5MdGRUWhfPnyOHHihNrA7+XLl3hZZDxVTk6OyR9DSZeQALzzjvqxfOrIxs/9t/qfRkVXSNAl8Cs2DFXlwHtVCgqEgLBaNd2DKml2LvaP+AXrKRFdsAc+yJLve4oy2I8O2Inu2ItOeIzCFW4kalpVbDWQsGZqJ9aIENCYc4KQmPgHBmMlm52xJyAibNiwAWlmvNo0btwY69atw/79+7FixQqkpKSgRYsWePLkCdLT0+Hk5ARvb2+F+wQGBiI9PV3tOefOnQsvLy/5LSwszMSPomSTtXQZEvQB+neztWghBIvaUtYNHizUrWgd9UkEvWCB0IqpVkYG8N13QNeukPj7YXVmLwzET/BBFjLgj2/xNrrg/+CHh+iFHdiAtxSCPqCwpWXiRMVWR1sNJKyd7MdDv37Cv2K1Yml7T0okQmJxXX7gmBP/wGCsZDN6yTY7OztUrlwZjx49QuXKlcWok1YdO3aU/79WrVpo3LgxwsPDsXXrVoXuZn1MmzYNkydPlv+dk5PDwZ+BNHUVaaNvN1vRbtoRI4CZM5XHbBX1779CsLd1KzBpkv51lEqB5cuFoEzu5k3FlTP+O6kdgJuoiETEIRFxOIGmKIBuUYWqVhVZIKFtprG1BRKalORZo+YYR2gK/AODsZJNlLV6582bh/feew8rVqxAjRo1tN9BZN7e3qhSpQpu3ryJtm3bIi8vD1lZWQqtfvfv31c5JlDG2dlZYXIKM4xUCixZonsrmkQiLCG7cCFQrpz+4+eKd9OWLSv8++iR6vvIxiiNGSMsa2uI5JsE/HlGCPR27VKanIH69YHu3XE6JBaNhlUHYPjKGUVbVWw1kFCnNOS3M/U4QlMoiT8wGGNFiDE12Nvbm5ycnMjOzo5cXFzIx8dH4WZqT548IR8fH1q8eDFlZWWRo6Mjbd++Xb7/2rVrBIBOnDih8zl5Orj+DEnZIktBojHdiZqy1KU10ad8XW8OyKPWOEBLMJZyvIs9SAcHojZtiJYuJbpzR15HbSlDDE1po+p5DguzrTQbpS0tjb7vb0sTM5URY+bG12/NREngvH79eo37Bw8ebGwRCqZOnYquXbsiPDwc//77L2bMmIFz587hypUr8Pf3x+jRo7F3716sW7cOnp6eePfddwEAv//+u85lcAJI/RiSssXfH1i5Uvi/Pi0/2tZZFYsbctEev6A7dqIzflaYnAE3NyHXS/fuQOfOgI+PynNoWotX03OlSxJrW+0i5XVybYOqFtmwMOttqWRMhq/fWlg68jREnz59KDg4mJycnKhcuXLUp08funnzpny/LIGzj48PlSlThrp3705paWl6lcG/GHSnLVGtqpu/P9HLl4a1/CQlidOK5+enXLY/7tMwfEu70YWew1lh53340x+1hhPt2UP0/LnOz4+6Frr33iudrSq6vn6aEngz87C1lkrGiPj6rY0oLX5FvXjxAnnFpj3aYsTNvxh0p+vyV0Vt3Sq0GhjS8jNpktDqYCjZeb/+GujTB6hINxH73xSMZvgddij8SNxERexEd/yfJBZNJzfFF18Z1gSlroWuNLaqbNoE9O+v/biNG4WZtowxpg++fmsmyuSOp0+f4oMPPsDWrVvxSMWoeltcq5fpzpC0Dv7+huULy8sDvv9e93JUToIgwrpxZ9DqfCLahSbC6+5lhfucRgP5TNwriAYgQbkQIOkL3cstrmi+waJMmUfOWpXkWaPGdMHbcvc9Y8x2iBL4vf/++0hKSsKKFSswcOBALFu2DKmpqVi1ahXmzZsnRhHMihlygdYnWExNFf5NSBBWAdElt7adndAyuGWLEFw6Ig8xOIq33BLR22kXXD8QTuoFoMDeAYekb2AXYrELsbgH5TQ+qammS1irLigsqUrqrFFjZimXhhnOjDErIUZ/cVhYGCX9NyDHw8ODbty4QUREP/zwA3Xs2FGMIsyOxwjozpDZq0lJuo/18vcvHA+nzxg+D+TQ75O3Unrr/vSyjJfiTnd3ojffJNqwgbateazT+TZutPATXYKUtFmjxsxSLm0znBkzNb5+aybKGD93d3dcuXIF5cuXR2hoKBISEtCoUSOkpKSgZs2ayM3NNT5CNTMeI6AbWffUrl26j7sLDQVu3RL+HxGhvuVHRtsM2KICcB/dsBtxSERrHIILXhbZGSD0q8bFAa1aAS4uAHQfo5iUVLpa5kytpIxvNGaWMs9wZkx8fP3WTJSu3goVKiAlJQXly5dHVFQUtm7dikaNGuH//u//lJZOY5Yl5jgiXde5La5xY6EOLVoUJiTWRFvQVwk3/huRl4imOKEwOeMGKsG5TxzKj+8uFKziwZbUrkdrZ8rxjeYcL2fM2ra8Li4rrXhMq+WIEvgNHToU58+fR0xMDD788EN07doVS5cuxatXr7BgwQIximAi0GUcUdEPY0CAsC0jQ/mDaUjePpkdO4SbrOzt24F33tFnXV9CA/wpD/aq44rC3lNoKJ+ccRXVsDFWgnKN1X/JaFsRgwjo2bMwWOUvJ/GYYnyjucfLGbO2La+LqxoHBSUbj2m1MFP0H6ekpNCOHTvo/Pnzpji9WZS0MQK6jCPStvJGaGjhKhv65u1TdSta9k8/aT7WES+pDX6lpRhDd1FOYWceHOgXtKUxWErlcFfpvvHxyvWVPZbiz1Hx4+zttd+PWQ9LjJczNC9hfj7RwoWG3VcM1pqjT9XnkD93JYc5PqMl7fotNpMEfiVBSXrj6BKoeXrqHqjFxxsf9BU9Z1gY0cGDyvvckUO9sJV+Qn96DC+FnTlwpy14k/phA3nhsdpzly2rPegs/lwlJRFNnKjf/TQ999Z4cS2JtL3PZe81da+Boa+VtslNqsrVdXlDbXU2lLUGVzzRpWQz9jOqq5J0/TYF0QK/gwcPUufOnalChQpUoUIF6ty5Mx04cECs05tdSXrjiLXShbZgypjbwYPCF0IQ0mg4VtMedKIXcFI4KB0BtAojqBP2kDOe6xSkaqqrui8Zsb6crPXiWlIZsyKIsa+VPrOU1QU35gp2rDW4MldQwCzHXKv2lKTrtynYidFdvHz5cnTo0AEeHh6YMGECJkyYAE9PT3Tq1AnLli0TowhmBDHHBxEBKnJ0G6USbuDV3Pk4Jm2OVIRgDUaiM/bCGXm4gUr4Eu+hGX5DCP7FO1iNveiMl3CR39/FRfmcvr7AzJma60pUOHC+KH0G3KsjGwNZ/DypqcL2hAT192WGMXS8nBivVY8ewljVcuUUt4eGCtuLjqGdMEF4D2lT/L5i0FS+bNvEicJxRe9z5Iiw4sqRI4r7xCTG545ZNx7TaiXEiB7LlStHS5YsUdq+dOlSCgkJEaMIszP3LwZTdgmK2eInu/n66p9XT/7LHVJqgFP0GT6iS4hWOuAkGtI0zKFquExAgdI4O11v6rpri9+K5+fbuNGw+xV9LbnlwvwMaU0Q+7XS9jnWtY4LF5rm/aHvc2TOVmtjP3fM+nGLn3UQpcUvKysLHTp0UNrerl07ZGdni1FEiZaQIOTyatlSWMO0ZUvhb7FahWTpSiQScc4HCK0G+nBEHtrgAJZiLO6gPE6jET7G56iOK3gFB/yCdhiDZSiHe2iMU5iLj1CxSzQWLpQY1MIgkQAbNuh2bPGVR4xdUoxbLixD2/tcIhHyBBZNyyP2ayWbpdyvn/Bv8ZmourZkBAaaZharPi0u5m61LslL+TGBIZ9RJj5RAr9u3bph586dStt37dqFLl26iFFEiWWOL1dZuhIxyD6YH38sdEP5+qo/1h1P0Avb8BMGIAMBOIB2GIvlCEUqnsAdW9Ab/bAR/niADvgFKzAG/6Kwr2zPHiFxrSGIgAcPhDWB9f2SkX05aaMu/Qx3Z1hG0fd58ddc9veiRYoBlblfK0sHN7qeNyBA/y5hY3FQUPIZ8hllJiBGs+Hs2bPJy8uLOnXqRLNnz6bZs2dT586dydvbm2bPnk2LFy+W32yFOZqKzd0luGMHkZ+fYd2msvoUHfydn0/01VeKxwRqmJxxXxJIqzCCOmAvOeGFTmV6eRleX0Do7jVkabCtW7WfW91rY67uDKao6Izs4u/zsDDVr7W5XytDZgCLSdfyVc2yN8d7uKQt5cdUUzWEQN1n1BDc1auZKIFfRESETrfIyEgxijMLc7xxLBEgvHwprH1rSBBVtmzhB7PoB7cyrtN7+IJ+Q1OSQvEb+zoq0zy8T938f6eXz6Xy8U/Tp+terp+f4eMJk5IM+5Ix5rWx9MW9NFL1Gvv7C0GgpjGzlnitLB3c6FK+JcfbmTooYNbBlOPaOfDTTJTAryQyxxvHUl+umr74NdVDnuh5m5Qa4STNwTS6jGpKB/6BRvQhPpdPzgCUv7T1mXCirtVOW12LXrD1/ZIx9rWx9MW9pOcPLPr44uONS09iidfK0sGNtvIt3Wpd0t+/zLQ48NOMAz81SmqLn4yqL35fX/WJnB3xktrhF1rvNprS7EIUdspWzhiF5RSCewr3K9pKWNTLl7p346prtZPl6DPFBVuM18ZSF/eSnj9Q1+THqn4A6HNOU79Wlg5uNJXPrdbMlnHgpxkHfmqYc4yfJcf7xMcLAZ+q8j2QTb2xmTaiL2VBMSLMgTttRm/qi41qV84AiMqV021pNHU3ba12prpgi/XaGHtx1/f+1pqcVyy6Jj825MeTpQMxa2PpVmvGDMWBn2Yc+KlhrjeOti/XrVtNdzFSdRENRBqNwCr6GR2VJmekQf/JGcUvEvpcuHW9uJjqgm3pC5++LXclPX+gMWtEc+43w1i6S5oxQ3Dgp5mEiMgy84mtW05ODry8vJCdnQ1PT0+TlpWQIKROKJrSJSwM6NtXyJZfdHtoqDAdXpds/lKpkH8sLU1I49CiReE0ealUyBV47x5QBdcRh0TEYhea4A/YofAtcR1VsBPdkYg4nEIjkAEZgCQSod43bwIVK2rOmyYTFiZM6xdz1QJDqHttTF03WZqf4p9OWcoDVSs6HDki5IDUJilJyDFXlKb3irXQ9fGpouoxM93YwnuDsaLMef22ScZGjq9evaL4+Hi6e/eu8WGoFbH0yh3bthk/YF1ta5FUSn8u+4M+x4d0BVFKhZxAY/oQn1NVXFUqOzRU6L41pLtt4ULdj7OmVildWhTFbHU0tOXO0AkptjImUNfHV5JaORlj+uMWP80cjA0cHRwcMH/+fAwaNMj4KLQUk2X8Bwpb41S1xRIJrT4TJwKxsap/eatqLXJEHqrfS0JGz0Q899mF+o/TUP+/fXlwxGG0QiLisBvdkIYQpXPKWpoWLgSuXAFmzND/MSYn63acqVYtMFTR10YVVa2C+rTMFqfPahJF62VIcmB1LYuyBOJirxVrDH2TGnNCWMYYU2Z04AcArVq1wtGjRxERESHG6Uo9Qy/8gOIi7B7IQUfsQxwS0Ql74YUc4aDHQH4ZD2x/1gm7EIu96IQceGmsU2io0PU8aZJuXbWqVKyo23GWWpLJkC4tUwROhq4mIVv5IDVV9Y8GWZe7bOWDou+V4nT5gWFuLVoAZcsCjx7pdnxoqHUMF2CMMWsiSuDXsWNHfPjhh7h48SLq168PNzc3hf3dunUTo5hSw5hlpE4mpqHTvd2IQyJa4xCc8KrweARhF2KRiDi8v70l3hvprDZIAITlzhYuBMqVE5Y/69NH/bFlygDPnqneJws4xowBvv5a98DEnAxptTNV4KRr4HvlijDuTRagypZD6tVLKLtovVS1fhnzA8NaeXoCy5cL71kei8YYYyqI0V8skUjU3uzs7MQowuwsOUZA7xxyV68SzZ1L1KSJ0kHXUIXm4gNqgt9JAqnCOC9dZ60aM5tS3axea0oRYWgKFFPlYdSWSqb4rfh4PF1nYlpydQZDWDqpMGPMNvAYP830n6KpQkFBgdqbVMxVvEsJbYuV26EA3QL+wOt7PwSiooBq1YBp04A//gAAnEQjfIi5iMJVROE6pmEe/kBThRm5wcFCS9b27ULrSFGhoYpdlNpahjQpfi5dy9RGKhVauzZtEv5V9zbTdpy2VjtA/WL0xrTMaqJpIXNVZN3KCQnC3z16ALduCTNZN24U/k1JUX5uDRkTaEmmer4ZY6xUsXTkaa0s/Yth2zbFVgwnvKD22Ecr8Q79iyDFnY6ORB06EK1cSfl3UvVOPKxtRqohsykBITm0pjVSDZ0Fq+ssVF2OM6YVydQtUKZYoaIoSycQ1xe3+DHGdGHp67e1Ey3wO3LkCHXp0oUqVqxIFStWpK5du9KxY8fEOr3ZWfKNI7vgeyKL+mATbUIfyoaH4tXNw4OoTx+izZuJitRRthqHugu5tu5UVQGZPuvqFu9eFDto0LVbVtfjjOnuNEfgJHv+p083TdBjjV3v6thaoMoYswwO/DQTJfD78ccfycHBgXr37k2LFy+mxYsXU+/evcnR0ZE2bNggRhFmZ6k3zs9rUmkUVtA+tKeXcFS4sqUimG62HUW0fz/RixdK99XWQuTrq7kVTtX9/f2JtmzRb8yZqVpfdM1v9/Kl7nnwdA1qFy5U3TpprsDJlOPxbGl1BlsKVBljlsGBn2aiBH5RUVG0YMECpe1ff/01RUVFiVGE2Zn1jfPf5IyCRo2VruRXEEWf40NqjBNkB6naFo0dO3QPxtR1i2oK7GJjDQv8xJwYoE+QpmtQqstECnt7zc+fOQInU3dz2tI6tbYUqDLGzI8DP81EWbLN2dkZly9fRqVKlRS237x5EzVq1MCLFy+MLcLsTLrkS0EBcOoUkJgo3K5fV9h9Ak2QiDjsQiyuI0rp7kWXn5JNXoiLA3JzdSu++LJfRZdv02TKFGGSxL//6lZO8boaa9MmoH9/7ceNGwcsXar9uI0bgX79CnPxAUIYoStZqhZZ+hlTLmsle420pcJJSdGtXFtfhsvW688YMx1esk0LMaLHihUr0sqVK5W2r1ixgipVqiRGEWZnsl8M+flEFSooNlf8Nznj5NsrKRipOrei6TP4v/jNkO5Of3+iX3/Vr2VRzJYjU7T4yah6Lou39Gl6nOZobRKrm9NWlmhjjDFDcIufZqIkcJ4yZQrGjx+Pc+fOoVmzZgCA3377DevWrcNiWV4KJrC3B2rUAB4+BDp3FpqMOnYEPD3x7AiQ9p32UwQHq18xQldEhcl5dU1/8eABcOyY7mWMGCFOK4ysdSc1VUgq/fCh5lYvQxJF9+ghvBSy5+P+fWGVEl2Ya3kzWSocVYmmdV2hwpaWaGOMMSY+UQK/0aNHIygoCF9//TW2bt0KAKhWrRq2bNmC2NhYMYooWVauFNaecnJS2KzrklvNmgnLnxnfSV/YVWYKlSsbfw5VK2qoUnRlCicn/VawkCm6Ju+mTbrXkUh5lQ5TdUUWD1D1ObetLdHGGGPMBCzd5GitLNVUrEt3nqHpVdR1d+bnC924uhx/8KDuxxo7o1fbhJOiN1WD+42ZBGDoc5yUZL1dqZwHjzFWGnBXr2airNwhc+bMGfz000/46aefcPbsWTFPXWrosrKFGCsTyFoPpVJg61ahe1SbsDChRWz5cu3Hli1r3Jq7mlqnZPz9gZ9+Ur8yha4rWKiibfUUdXbtEloai7dQFl9dwxJ45QvGGGOidPVmZGSgb9++OHLkCLy9vQEAWVlZaNmyJTZv3gx/f38xiik1tHXnidE1SwTk5ABt2hRuc3YGXr5UfbxEUtg92qsX8N57wPz56s//6JEQBBk6XkyXZeIePBACZE2zhot23+pDtmyaqu5iTX76yXq7Um1tiTbGGGPiE6XF791338WTJ09w+fJlZGZmIjMzE5cuXUJOTg7Gjx8vRhGljixg6ddP+LdooNCihdCiZqycHMW/ZUFf8VausDDlQf8NGmg//4QJ6tfQBTSvo2sNrVPqWl9VkUgKJ56oU3RCjSVoa8WUSITX2piWWsYYY9ZNlMBv//79WL58OapVqybfFh0djWXLlmHfvn1iFMHMSNZiNXGi6u7RbduEgFSbe/eAOXNU70tIEPLStWwp5OZr2VL4W9YVqk/rlKYA0lg9egALFwpBnTqyQGrAAN3OqWuwKvbjkrViAsrBn6ZJL4wxxkoOUQK/goICODo6Km13dHREQUGBGEUwFAYCM2cKXammtmOH8ozRhASgd28hB7UuZsxQHtcmSymiaRycrq1TDx9qDiANUTTgmjVLeLwPHqg/Xjb+UtcJ7Pfvaw/itAXGhtJlDCljjLGSS5SVO2JjY5GVlYVNmzYhJCQEAJCamooBAwbAx8cHO3fuNLqi5mZtmb91TWsituKrhOiywkdxYWGFK0poO0fRFShkEyUA1SlZpk4FvvpKeUxd8ZVJ9KHv8+zvLxzr5KR9dY2iQkOF1jdV9VOXa0/V4zI0bQyvfMEYK6ms7fptdcSYGnznzh2qU6cOOTo6UoUKFahChQrk6OhIdevWpbt374pRhNlZ03RwfdKaiH2bOLGwHsakkZGlCNE3pYi6lCxbt2petaToyiSmfp6LrwCiKh2PqvqpWm1DtnawLo/LWtPGMMaYJVnT9dsaidLVGxYWhr/++gs///wzJk6ciIkTJ2Lv3r3466+/EBoaKkYRJZqmsVy6pDUxpQ0bCutjzEQK2X31nbShLiWLrKVNHX0nUhjzPBd9TLpOCCk6jrLo661tNrPscc2ZY71pYxhjjFkvUdK5AIBEIkHbtm3Rtm1bsU5ZKqjqWizaDahLWhNTevAAWLIECAwUxqYZSjZZw5CUIqpSsog969eY57n4Y5Kl41myRPOyb0WDU9nj07W+ixdbb9oYxhhj1svgwO+bb77R+VhO6aKaLuumqsurZ05FgxfZOD1dFV8XV9dl6bSlFBE7J50hrZma6mpvLwTL+pata30zM9XvUxVQMsYYY4ARgd/ChQsV/n7w4AGePXumkMC5TJkyCAgI4MBPBW3rpgLAyJHARx+Zt17a6Bv0AYopQjQlRtYnpYhYAaSMvkmLdamrIcGpLo/Lx0dz4CfDK3AwxhgrzuAxfikpKfLbnDlzUKdOHVy9elWewPnq1auoV68eZs+eLWZ9SwxduhYfPQKmTLHO7rridSpbVjmptLoUIWKkFBE7J52+S7TpUldDEibr8rgmTNCtjrwCB2OMseJESedSsWJFbN++HXXr1lXYfubMGfTq1QspKSnGFmF2pp4OvmmTkJ/Nli1cKHRnytKBAPqlCBEjpYiqMZJhYULQZ0gqF3XpY4iA+HigcmX96qrpnID64FHT44qN1Zw2pmhKHGv80cAYY6bE6Vw0E2VyR1paGvLz85W2S6VS3DdmRkAJVhJaYwIDlVfw0GdMmaHr6BalbV1jfc+1fbvqyTaGBJLGnFPb4xKju5wxxljpI0qLX9euXZGamopvv/0W9erVAyC09o0cORLlypXD7t27ja6ouZn6F4M+yX6t1cGDQOvWlq6F+EyR3NgU5xSztZMxxkoKbvHTTJTA78GDBxg8eDD2798vX7otPz8f7du3x9q1axGo6/RGK2KON466bkBbUVIDP1vCK3AwxpgiDvw0E6Wr19/fH3v37sWNGzdw9epVAEBUVBSqVKkixulLLHXdgLYiI8PSNWBidJczxhgrPURZuWPWrFl49uwZKleujG7duqFbt26oUqUKnj9/jlmzZolRRIklW5ni4EHA19fStdFPSRinyBhjjJUmogR+8fHxyM3NVdr+7NkzxMfHi1FEiWZvD2Rn655KxFR0LV9VGhLGGGOMWT9RunqJCBIVUcP58+fha2vNWBagbgUPc5FIhNZGFxdhsom2YwGeNcoYY4zZIqMCPx8fH0gkEkgkElSpUkUh+JNKpcjNzcWoUaOMrmRJpmkFD3MhEpJFHzwoBHOyiQIPHwrLtYmV2oQxxhhjlmVU4Ldo0SIQEYYNG4b4+Hh4eXnJ9zk5OSEiIgJNmzY1upIl2ZEj1jOxIyNDOS9f9+48a5QxxhgrKYwK/AYPHgwAiIyMRLNmzeSpXJh6UqkQ7B05Aly7Bvz8s6VrVEjVZA2eNcoYY4yVHKKM8YuMjESahhXhy5cvL0YxNi8hARg5UuhWNTd7eyHoVEW2xBdP1mCMMcZKNlECv4iICJWTO2Sk6iKOUiQhAejZU5xz2dsDXboAZ84odhMXD+78/YEBA4Slvx4+BHr3FrbzEl+MMcZY6SRK4Hf27FmFv1+9eoWzZ89iwYIFmDNnjhhF2DSpFBg/3vjzSCTAF18Ik0GcnJRXbWjWDPj9d/Xj8cReh5YxxhhjtkWUJdvU+fnnnzF//nwcOXLEVEVotWzZMsyfPx/p6emoXbs2lixZgkaNGmm9n5hLvhw5ArRsadQpAADvvQd8+aVx5+AlvhhjjJVkvGSbZqK0+KlTtWpVnD592pRFaLRlyxZMnjwZK1euROPGjbFo0SK0b98e169fR0BAgNnqoWH4o07s7IApU4wP+gCerMEYY4yVZqKs3JGTk6Nwy87OxrVr1zB9+nRUrlxZjCIMsmDBAowYMQJDhw5FdHQ0Vq5c+f/t3XlYVNX/B/D3MMwAssuOLAoogrK5RvBNDZQIFbMvj5kZSmYZm5obaUL6VcjSAOuLabmUGmmBmTuR4I6s7iKiiCmK+k1AkEXm/P7g4f4ch2VgLuJMn9fzzPM49x7O/XzuuTNzPPeee9GjRw9s3LjxucahyKPNpk8HHj/mp9NHCCGEkH82Xkb8DAwMZCZ3MMZgbW2N5ORkPjbRYfX19cjNzUVUVBS3TE1NDb6+vjh58qRM+bq6OtTV1XHvKysreYvlX/8CevVq/6kYTzMyAtavp2vvCCGEEMIfXjp+hw8flnqvpqYGExMTODg4QF29S88mt+r+/ftobGyEmZmZ1HIzMzNcvnxZpnxsbGyXPVdYKAQSE+Wb1Wtk1DQRZPFiuvaOEEIIIfzipVc2YsQIPqrpVlFRUZg7dy73vrKyEtbW1rzVP3Ei8OuvLd/HT08PCAlpuu0KTbYghBBCSFfhbTiuuLgY8fHxuHTpEgDA2dkZkZGRsLe352sTHWJsbAyhUIi7d+9KLb979y7Mzc1lymtoaEBDQ6NLY5o4salz1/zkDqBposXIkdTZI4QQQkjX42Vyx8GDB+Hs7IzTp0/D1dUVrq6uyMrKwoABA5CWlsbHJjpMLBZj8ODBSE9P55ZJJBKkp6d36/ODhULAxwdYvrzp5eNDnT5CCCGEPB+8jPgtWrQIc+bMQVxcnMzyhQsXYvTo0XxspsPmzp2L4OBgDBkyBMOGDUN8fDyqq6sxffr0bomHEEIIIaQ78dLxu3TpEnbs2CGzPCQkBPHx8XxsolMmTZqEe/fuYenSpbhz5w7c3d1x4MABmQkfhBBCCCH/BLx0/ExMTFBQUCBzz76CgoLneqPkloSFhSEsLKxbYyCEEEIIeRHw0vF7//33MXPmTFy7dg0vv/wyAOD48eP4/PPPpWbKEkIIIYSQ7sPLs3oZY4iPj8fq1atx+/ZtAIClpSXmz5+PiIgImZs7KwN61h8hhBCifOj3u228dPyeVlVVBQDQ1dXls9rnjg4cQgghRPnQ73fbeH+shrJ3+AghhBBCVBUv9/EjhBBCCCEvPur4EUIIIYT8Q/B+qldVNF/6WFlZ2c2REEIIIURezb/bPE9hUBnU8WtF8yQVa2vrbo6EEEIIIR1VVVUFfX397g7jhcPbrN7s7GwcPnwY5eXlkEgkUuvWrFnDxyaeK4lEgtu3b0NXV1cpb0fztMrKSlhbW+PmzZsqO8NJ1XOk/JQb5af8VD1HVcqPMYaqqipYWlpCTY2uaHsWLyN+K1euxJIlS+Do6AgzMzOpjpKydprU1NRgZWXV3WHwSk9PT+k/0O1R9RwpP+VG+Sk/Vc9RVfKjkb7W8dLxS0hIwMaNGzFt2jQ+qiOEEEIIIV2AlzFQNTU1eHl58VEVIYQQQgjpIrx0/ObMmYNvvvmGj6pIF9DQ0EB0dDQ0NDS6O5Quo+o5Un7KjfJTfqqeo6rnR/4fL5M7JBIJAgICcOXKFTg7O0MkEkmtT0lJUXQThBBCCCFEQbxc4xcREYHDhw9j1KhRMDIyUtoJHYQQQgghqoyXET9dXV0kJycjICCAj5gIIYQQQkgX4OUav549e8Le3p6PqgghhBBCSBfhpeMXExOD6Oho1NTU8FEdIYQQQgjpArx0/BITE7F//36YmZnBxcUFgwYNknqR5+PIkSMYN24cLC0tIRAIsGvXLqn1jDEsXboUFhYW0NLSgq+vL4qKiron2E6IjY3F0KFDoaurC1NTU0yYMAGFhYVSZWpraxEaGgojIyPo6OjgzTffxN27d7sp4o5JSkqCq6srdwNVT09P7N+/n1uvzLm1JC4uDgKBALNnz+aWKXOOMTExEAgEUq/+/ftz65U5t6fdunUL77zzDoyMjKClpQUXFxfk5ORw65X5e6Z3794ybSgQCBAaGgpA+duwsbERn376Kfr06QMtLS3Y29tj+fLlUs+0Veb2I/LhpeM3YcIEfPzxx5g3bx7+/e9/IzAwUOpFno/q6mq4ubm1emudVatWITExEevWrUNWVha0tbXh5+eH2tra5xxp52RmZiI0NBSnTp1CWloaGhoaMGbMGFRXV3Nl5syZg99//x07d+5EZmYmbt++jYkTJ3Zj1PKzsrJCXFwccnNzkZOTg1dffRWBgYG4cOECAOXO7VnZ2dn49ttv4erqKrVc2XMcMGAAysrKuNexY8e4dcqeGwD8/fff8PLygkgkwv79+3Hx4kWsXr0ahoaGXBll/p7Jzs6War+0tDQAQFBQEADlb8PPP/8cSUlJ+Prrr3Hp0iV8/vnnWLVqFdauXcuVUeb2I3JiRCUBYKmpqdx7iUTCzM3N2RdffMEte/jwIdPQ0GA//fRTN0SouPLycgaAZWZmMsaa8hGJRGznzp1cmUuXLjEA7OTJk90VpkIMDQ3Zd999p1K5VVVVsb59+7K0tDQ2YsQIFhkZyRhT/vaLjo5mbm5uLa5T9tyaLVy4kHl7e7e6XtW+ZyIjI5m9vT2TSCQq0YYBAQEsJCREatnEiRPZlClTGGOq136kZbw+vTg3Nxdbt27F1q1bkZ+fz2fVREHXr1/HnTt34Ovryy3T19fH8OHDcfLkyW6MrPMqKioANE0uApqOv4aGBqkc+/fvDxsbG6XLsbGxEcnJyaiuroanp6dK5RYaGoqAgACpXADVaL+ioiJYWlrCzs4OU6ZMQWlpKQDVyA0Adu/ejSFDhiAoKAimpqbw8PDAhg0buPWq9D1TX1+PrVu3IiQkBAKBQCXa8OWXX0Z6ejquXLkCADhz5gyOHTsGf39/AKrVfqR1vNzHr7y8HG+99RYyMjJgYGAAAHj48CFGjRqF5ORkmJiY8LEZooA7d+4AAMzMzKSWm5mZceuUiUQiwezZs+Hl5YWBAwcCaMpRLBZzx2AzZcrx3Llz8PT0RG1tLXR0dJCamgpnZ2cUFBQofW4AkJycjLy8PGRnZ8usU/b2Gz58ODZv3gxHR0eUlZXhs88+w7/+9S+cP39e6XNrdu3aNSQlJWHu3Ln45JNPkJ2djYiICIjFYgQHB6vU98yuXbvw8OFD7hn0qtCGixYtQmVlJfr37w+hUIjGxkasWLECU6ZMAaB6vxOkZbx0/MLDw1FVVYULFy7AyckJAHDx4kUEBwcjIiICP/30Ex+bIYQTGhqK8+fPS11DpQocHR1RUFCAiooK/PLLLwgODkZmZmZ3h8WLmzdvIjIyEmlpadDU1OzucHjXPGoCAK6urhg+fDhsbW2xY8cOaGlpdWNk/JFIJBgyZAhWrlwJAPDw8MD58+exbt06BAcHd3N0/Pr+++/h7+8PS0vL7g6FNzt27MC2bduwfft2DBgwAAUFBZg9ezYsLS1Vrv1I63g51XvgwAH897//5Tp9AODs7IxvvvlGalYi6T7m5uYAIDMD7e7du9w6ZREWFoY9e/bg8OHDsLKy4pabm5ujvr4eDx8+lCqvTDmKxWI4ODhg8ODBiI2NhZubGxISElQit9zcXJSXl2PQoEFQV1eHuro6MjMzkZiYCHV1dZiZmSl9jk8zMDBAv379cPXqVZVoPwCwsLCAs7Oz1DInJyfulLaqfM/cuHEDf/zxB2bMmMEtU4U2nD9/PhYtWoS33noLLi4umDp1KubMmYPY2FgAqtN+pG28dPwkEonM83kBQCQSQSKR8LEJoqA+ffrA3Nwc6enp3LLKykpkZWXB09OzGyOTH2MMYWFhSE1NxZ9//ok+ffpIrR88eDBEIpFUjoWFhSgtLVWaHJ8lkUhQV1enErn5+Pjg3LlzKCgo4F5DhgzBlClTuH8re45Pe/ToEYqLi2FhYaES7QcAXl5eMrdQunLlCmxtbQGoxvcMAGzatAmmpqZST6NShTasqamBmpr0z75QKOR+p1Wl/Ug7+JghMn78ePbKK6+wW7duccv++usvNmLECDZhwgQ+NkHkUFVVxfLz81l+fj4DwNasWcPy8/PZjRs3GGOMxcXFMQMDA/bbb7+xs2fPssDAQNanTx/2+PHjbo5cPrNmzWL6+vosIyODlZWVca+amhquzIcffshsbGzYn3/+yXJycpinpyfz9PTsxqjlt2jRIpaZmcmuX7/Ozp49yxYtWsQEAgE7dOgQY0y5c2vN07N6GVPuHD/++GOWkZHBrl+/zo4fP858fX2ZsbExKy8vZ4wpd27NTp8+zdTV1dmKFStYUVER27ZtG+vRowfbunUrV0bZv2caGxuZjY0NW7hwocw6ZW/D4OBg1qtXL7Znzx52/fp1lpKSwoyNjdmCBQu4MsrefqR9vHT8SktLmbu7OxOJRMzOzo7Z2dkxkUjEPDw82M2bN/nYBJHD4cOHGQCZV3BwMGOsaar+p59+yszMzJiGhgbz8fFhhYWF3Rt0B7SUGwC2adMmrszjx4/ZRx99xAwNDVmPHj3YG2+8wcrKyrov6A4ICQlhtra2TCwWMxMTE+bj48N1+hhT7txa82zHT5lznDRpErOwsGBisZj16tWLTZo0iV29epVbr8y5Pe33339nAwcOZBoaGqx///5s/fr1UuuV/Xvm4MGDDECLMSt7G1ZWVrLIyEhmY2PDNDU1mZ2dHVu8eDGrq6vjyih7+5H2CRh76pbdio0c4o8//sDly5cBNF338eztGgghhBBCSPdRuOPX0NAALS0tFBQUcLfVIIQQQgghLx6FJ3eIRCLY2NigsbGRj3gIIYQQQkgX4WVW7+LFi/HJJ5/gf//7Hx/VEUIIIYSQLsDLNX4eHh64evUqGhoaYGtrC21tban1eXl5im6CEEIIIYQoiJcnd0yYMIGPagghhBBCSBfq9IhfYmIiZs6cCU1NTZSWlsLKykrmxpCEEEIIIeTF0emOn7q6Om7fvg1TU1MIhUKUlZXB1NSU7/gIIYQQQghPOn2q19LSEr/++itef/11MMbw119/oba2tsWyNjY2nQ6QEEIIIYTwo9MjfuvXr0d4eDiePHnSahnGGAQCAd3qhRBCCCHkBdDpi/JmzpyJ+/fv48yZM2CMIS0tDXl5eVKv/Px8mtFLXlgjR47E7NmzX4ht8xVLd+ZEuga1aec8ePAApqamKCkp6e5Q2pWamgp1dXX069cP5eXlna7nrbfewurVq3mMjKgihWZj6OrqYuDAgdi0aRO8vLzg5ubW4osor2nTpkEgEEAgEEAsFsPBwQHLli3jRnqb13/44YcyfxsaGgqBQIBp06Zxy2JjYzF06FDo6urC1NQUEyZMQGFhYZsxxMTEcDE0v/r3769wbikpKVi+fLnC9XSXljoEyp4TIXxZsWIFAgMD0bt37y6pf/r06ViyZInC9Rw+fBhvv/02YmJiYGpqitdeew2VlZUy5ZKSkuDq6go9PT3o6enB09MT+/fvlyqzZMkSrFixAhUVFQrHRVQXL9Nwg4ODoaGhwUdV5AX02muvoaysDEVFRfj4448RExODL774gltvbW2N5ORkPH78mFtWW1uL7du3y1zfmZmZidDQUJw6dQppaWloaGjAmDFjUF1d3WYMAwYMQFlZGfc6duyYwnn17NkTurq6ra6vr69XeBvPW3s5EaIsFPn81dTU4Pvvv8d7773HY0T/r7GxEXv27MH48eMVqic3NxdvvPEGvvrqKyxZsgQHDx5Ez549ERgYiLq6OqmyVlZWiIuLQ25uLnJycvDqq68iMDAQFy5c4MoMHDgQ9vb22Lp1q0JxEdVG918h7dLQ0IC5uTlsbW0xa9Ys+Pr6Yvfu3dz6QYMGwdraGikpKdyylJQU2NjYwMPDQ6quAwcOYNq0aRgwYADc3NywefNmlJaWIjc3t80Y1NXVYW5uzr2MjY3bLH/gwAF4e3vDwMAARkZGGDt2LIqLi6XKtHS6NSwsDLNnz4axsTH8/PxarLu5XFhYGPT19WFsbIxPP/0UT18uW1dXh4iICJiamkJTUxPe3t7Izs5uM+an9e7dG/Hx8VLL3N3dERMTA6BppDUzMxMJCQncKGhJSYlMTu3FMXLkSERERGDBggXo2bMnzM3NuW10xMiRIxEeHo7Zs2fD0NAQZmZm2LBhA6qrqzF9+nTo6urCwcFBZoRCIpEgNjYWffr0gZaWFtzc3PDLL79w6+Vtx47m0F698tQpT5n22lHeHNvS3j68d+8ezM3NsXLlSm7ZiRMnIBaLkZ6ezuWi6DH9yy+/wMXFBVpaWjAyMoKvr6/Uf+ja2xetff7ay68l+/btg4aGBl566SWp5ceOHYNIJJKaiFhSUgKBQIAbN26gqqoKU6ZMgba2NiwsLPDVV1+1OLJ+4sQJiEQiDB06lIu9o8d/YWEhxo4di7Vr13JnTLS1tbF3717o6upi8uTJUtfHjxs3Dq+//jr69u2Lfv36YcWKFdDR0cGpU6ekYhs3bhySk5Pb3D/kn406fqTDtLS0ZP43HhISgk2bNnHvN27ciOnTp7dbV/MpiZ49e7ZZrqioCJaWlrCzs8OUKVNQWlraZvnq6mrMnTsXOTk5SE9Ph5qaGt544w1IJJI2/27Lli0Qi8U4fvw41q1b12Y5dXV1nD59GgkJCVizZg2+++47bv2CBQvw66+/YsuWLcjLy4ODgwP8/Px4e6xhQkICPD098f7773OjoNbW1jLl5Iljy5Yt0NbWRlZWFlatWoVly5YhLS2twzFt2bIFxsbGOH36NMLDwzFr1iwEBQXh5ZdfRl5eHsaMGYOpU6eipqaG+5vY2Fj88MMPWLduHS5cuIA5c+bgnXfeQWZmJgD527GjOchTrzx18rHvOnusNmtvH5qYmGDjxo2IiYlBTk4OqqqqMHXqVISFhcHHx0cql84e02VlZZg8eTJCQkJw6dIlZGRkYOLEiejo3MGWPn/t5deSo0ePYvDgwTLLCwoK4OTkBE1NTW5Zfn4+DA0NYWtri7lz5+L48ePYvXs30tLScPTo0RavU9+9ezfGjRsHgUAgFXtHjn9HR0eUlZVh6tSpUnVraGhg9+7dSElJgVAobDG/xsZGJCcno7q6Gp6enlLrhg0bhtOnT8uMGBLCYYS0ITg4mAUGBjLGGJNIJCwtLY1paGiwefPmSa0vLy9nGhoarKSkhJWUlDBNTU127949FhgYyIKDg1usu7GxkQUEBDAvL682Y9i3bx/bsWMHO3PmDDtw4ADz9PRkNjY2rLKyUu487t27xwCwc+fOcctGjBjBIiMjpd57eHi0W9eIESOYk5MTk0gk3LKFCxcyJycnxhhjjx49YiKRiG3bto1bX19fzywtLdmqVata3fbT721tbdlXX30ltV03NzcWHR3d6t88u0zeOLy9vaXqGDp0KFu4cGG7++HZ7T5dz5MnT5i2tjabOnUqt6ysrIwBYCdPnmSMMVZbW8t69OjBTpw4IVXXe++9xyZPntzidlprR0VzeLZeeeqUp4w87ShPLM+2c7OO7MOPPvqI9evXj7399tvMxcWF1dbWSuWiyDGdm5vLALCSkpJW82pvX7T0+evMMcIYY4GBgSwkJERm+YwZM9i7774rtWzp0qVs5MiRrLKykolEIrZz505u3cOHD1mPHj1k9n/fvn3Znj17uPedOf474+zZs0xbW5sJhUKmr6/P9u7dK1PmzJkz7bYF+WfjdcSvvr4ehYWFbd7ihSifPXv2QEdHB5qamvD398ekSZNkTmmZmJggICAAmzdvxqZNmxAQENDu6djQ0FCcP3++3dMS/v7+CAoKgqurK/z8/LBv3z48fPgQO3bsaPVvioqKMHnyZNjZ2UFPT4+7wLu9kcKWRgla8tJLL0n9b9/T0xNFRUVobGxEcXExGhoa4OXlxa0XiUQYNmwYLl26JFf9fJA3DldXV6m/s7Cw6NTMwqfrEQqFMDIygouLC7fMzMwMALi6r169ipqaGowePRo6Ojrc64cffuBOdcrbjh3NQZ565amTj33X2WMVkG8fNvvyyy/x5MkT7Ny5E9u2bZO5LluRY9rNzQ0+Pj5wcXFBUFAQNmzYgL///rtD+wGQ/fx1JL+nPX78WGpUr1lBQQHc3d2lluXn58Pd3R3Xrl1DQ0MDhg0bxq3T19eHo6OjVPlLly7h9u3bUqOlQMeP/85wdHREQUEBsrKyMGvWLAQHB+PixYtSZbS0tABAamSdkKfx8qzempoahIeHY8uWLQCAK1euwM7ODuHh4ejVqxcWLVrEx2ZINxk1ahSSkpIgFothaWkJdfWWD5uQkBCEhYUBAL755ps26wwLC8OePXtw5MgRWFlZdSgeAwMD9OvXD1evXm21zLhx42Bra4sNGzbA0tISEokEAwcObPeCcW1t7Q7F0lXU1NRkTpM1NDR0ybZEIpHUe4FAIPdpxvbqeXpZc6eiue5Hjx4BAPbu3YtevXpJ/W1zp0TeduxoDvLUK0+d7ZWRpx07e6wC8u3DZsXFxbh9+zYkEglKSkqkOiWKEgqFSEtLw4kTJ3Do0CGsXbsWixcvRlZWFvr06QNAvn3x7OevI/k9zdjYWKbj2djYiPPnz8tcd5yXl4c333xTjiyb7N69G6NHj5bpWHb0+O+M5jsrAE2d5OzsbCQkJODbb7/lyjRfxmFiYtLp7RDVxsuIX1RUFM6cOYOMjAypD4Ovry9+/vlnPjZBupG2tjYcHBxgY2PTaqcPaJr9W19fj4aGhlYnRjDGEBYWhtTUVPz555/cj0JHPHr0CMXFxbCwsGhx/YMHD1BYWIglS5bAx8cHTk5OnRp9aEtWVpbU+1OnTqFv374QCoWwt7fnrlNq1tDQgOzsbDg7O8tVv4mJCcrKyrj3lZWVuH79ulQZsVjc5s3R+YijKzk7O0NDQwOlpaVwcHCQellbW3dZOz6P46NZe+2oaCzt7cNm9fX1eOeddzBp0iQsX74cM2bMkBl5UvSYFggE8PLywmeffYb8/HyIxWKkpqbKvS8Uye9ZHh4eMiNhhYWFqK2thaWlJbfs5MmTuHXrFtzd3WFnZweRSCQ1YaWiogJXrlyRque3335DYGBgm3E/LxKJROZavvPnz8PKyqrdMy7kn4uXEb9du3bh559/ljlVMGDAgA7NTiPKTSgUcqcQW7soOTQ0FNu3b8dvv/0GXV1d3LlzB0DTKZXmUxRff/01UlNTuRmH8+bN40ZFbt++jejoaAiFQkyePLnFbRgaGsLIyAjr16+HhYUFSktLeR91Li0txdy5c/HBBx8gLy8Pa9eu5W6cqq2tjVmzZmH+/Pno2bMnbGxssGrVKtTU1Mh9e4lXX30Vmzdvxrhx42BgYIClS5fK7NPevXsjKysLJSUl0NHRkZkgw0ccXUlXVxfz5s3DnDlzIJFI4O3tjYqKChw/fhx6enqYOnVql7Tj8zg+mrXXjorG0t4+DA4OBgAsXrwYFRUVSExMhI6ODvbt24eQkBDs2bOHq0uRYzorKwvp6ekYM2YMTE1NkZWVhXv37sHJyUnufaFIfs/y8/NDVFQU/v77bxgaGgJoOs0LAGvXrkVERASuXr2KiIgIAE0dY11dXQQHB3M5mpqaIjo6GmpqatzvWnl5OXJycqTuavC8REVFwd/fHzY2NqiqqsL27duRkZGBgwcPSpU7evQoxowZ89zjI8qDl47fvXv3YGpqKrO8urpaqiNIVJ+enl6b65OSkgA03f7gaZs2beJu9Hz//n2p/zD89ddfmDx5Mh48eAATExN4e3vj1KlTrZ7KUFNTQ3JyMiIiIjBw4EA4OjoiMTFRZpuKePfdd/H48WMMGzYMQqEQkZGRmDlzJrc+Li4OEokEU6dORVVVFYYMGYKDBw9yP0LtiYqKwvXr1zF27Fjo6+tj+fLlMqMj8+bNQ3BwMJydnfH48eMWR08UjQMANm/ejOnTp3d4hqY8li9fDhMTE8TGxuLatWswMDDAoEGD8Mknn3RZOz6P46NZe+3IRyxt7UMAyMjIQHx8PA4fPsx9Pn/88Ue4ubkhKSkJs2bNAqDYMa2np4cjR44gPj4elZWVsLW1xerVq+Hv7y/3vuhsfi1xcXHBoEGDsGPHDnzwwQcAmjp+fn5+uHbtGlxcXODs7IzPPvsMs2bNQmJiIn788UesWbMGH374IcaOHQs9PT0sWLAAN2/e5M5k/f777xg2bFi3jKaVl5fj3XffRVlZGfT19eHq6oqDBw9i9OjRXJna2lrs2rULBw4ceO7xEeXR6Wf1Pu2VV15BUFAQwsPDoauri7Nnz6JPnz4IDw9HUVERHYREpYwcORLu7u4y9yRTVdHR0cjMzERGRkZ3h0K6iCoe03v37sX8+fNx/vx5qKmpwc/PD0OHDsV//vMfueuorq5Gr169sHr1arz33nsYP348vL29sWDBgi6MvPOSkpKQmpqKQ4cOdXco5AXGy4jfypUr4e/vj4sXL+LJkydISEjAxYsXceLEiTbvtUQIefHt378fX3/9dXeHQUiHBAQEoKioCLdu3YK1tTXOnDmDkJCQNv8mPz8fly9fxrBhw1BRUYFly5YBAHdNn7e3d6uXmLwIRCIR1q5d291hkBccLx0/b29vFBQUIC4uDi4uLjh06BAGDRqEkydP8jpzjBDy/J0+fbq7QyCkU5qfuHHnzh3cvXtXrt+jL7/8EoWFhRCLxRg8eDCOHj3Kndp9UUf6ms2YMaO7QyBKgJdTvYQQQggh5MXHy+1chEJhizelfPDgQbuztgghhBBCyPPBS8evtUHDuro6iMViPjZBCCGEEEIUpNA1fomJiQCabtz53XffQUdHh1vX2NiII0eOoH///opFSAghhBBCeKHQNX7NT124ceMGrKyspE7risVi9O7dG8uWLcPw4cMVj5QQQgghhCiEl8kdo0aNQkpKSoduCksIIYQQQp4vmtVLCCGEEPIPwct9/ICmx2rt3r0bpaWlqK+vl1q3Zs0avjZDCCGEEEI6iZeOX3p6OsaPHw87OztcvnwZAwcORElJCRhjGDRoEB+bIIQQQgghCuLldi5RUVGYN28ezp07B01NTfz666+4efMmRowYgaCgID42QQghhBBCFMTLNX66urooKCiAvb09DA0NcezYMQwYMABnzpxBYGAgSkpKeAiVEEIIIYQogpcRP21tbe66PgsLCxQXF3Pr7t+/z8cmCCGEEEKIgv4PrDjoccJrgX0AAAAASUVORK5CYII=\n",
         "text/plain": "<Figure size 640x480 with 1 Axes>"
        },
        "metadata": {},
        "output_type": "display_data"
       }
      ]
     }
    },
    "4d2cfeab9c5b47beb2717fa73852766a": {
     "model_module": "@jupyter-widgets/controls",
     "model_module_version": "1.5.0",
     "model_name": "DescriptionStyleModel",
     "state": {
      "_model_module": "@jupyter-widgets/controls",
      "_model_module_version": "1.5.0",
      "_model_name": "DescriptionStyleModel",
      "_view_count": null,
      "_view_module": "@jupyter-widgets/base",
      "_view_module_version": "1.2.0",
      "_view_name": "StyleView",
      "description_width": ""
     }
    },
    "5b8355b761044800ab0fae596bffce65": {
     "model_module": "@jupyter-widgets/base",
     "model_module_version": "1.2.0",
     "model_name": "LayoutModel",
     "state": {
      "_model_module": "@jupyter-widgets/base",
      "_model_module_version": "1.2.0",
      "_model_name": "LayoutModel",
      "_view_count": null,
      "_view_module": "@jupyter-widgets/base",
      "_view_module_version": "1.2.0",
      "_view_name": "LayoutView",
      "align_content": null,
      "align_items": null,
      "align_self": null,
      "border": null,
      "bottom": null,
      "display": null,
      "flex": null,
      "flex_flow": null,
      "grid_area": null,
      "grid_auto_columns": null,
      "grid_auto_flow": null,
      "grid_auto_rows": null,
      "grid_column": null,
      "grid_gap": null,
      "grid_row": null,
      "grid_template_areas": null,
      "grid_template_columns": null,
      "grid_template_rows": null,
      "height": null,
      "justify_content": null,
      "justify_items": null,
      "left": null,
      "margin": null,
      "max_height": null,
      "max_width": null,
      "min_height": null,
      "min_width": null,
      "object_fit": null,
      "object_position": null,
      "order": null,
      "overflow": null,
      "overflow_x": null,
      "overflow_y": null,
      "padding": null,
      "right": null,
      "top": null,
      "visibility": null,
      "width": null
     }
    },
    "708b9483eb3e494abbc87e3a7de5b2fa": {
     "model_module": "@jupyter-widgets/controls",
     "model_module_version": "1.5.0",
     "model_name": "FloatTextModel",
     "state": {
      "_dom_classes": [],
      "_model_module": "@jupyter-widgets/controls",
      "_model_module_version": "1.5.0",
      "_model_name": "FloatTextModel",
      "_view_count": null,
      "_view_module": "@jupyter-widgets/controls",
      "_view_module_version": "1.5.0",
      "_view_name": "FloatTextView",
      "continuous_update": false,
      "description": "Δ x",
      "description_tooltip": null,
      "disabled": false,
      "layout": "IPY_MODEL_5b8355b761044800ab0fae596bffce65",
      "step": null,
      "style": "IPY_MODEL_4d2cfeab9c5b47beb2717fa73852766a",
      "value": -23.4
     }
    },
    "723edc5361e84c0b85a5ab00f96e09e9": {
     "model_module": "@jupyter-widgets/controls",
     "model_module_version": "1.5.0",
     "model_name": "CheckboxModel",
     "state": {
      "_dom_classes": [],
      "_model_module": "@jupyter-widgets/controls",
      "_model_module_version": "1.5.0",
      "_model_name": "CheckboxModel",
      "_view_count": null,
      "_view_module": "@jupyter-widgets/controls",
      "_view_module_version": "1.5.0",
      "_view_name": "CheckboxView",
      "description": "Best Fit Line",
      "description_tooltip": null,
      "disabled": false,
      "indent": true,
      "layout": "IPY_MODEL_a29c6e2648c34de29dd9a0a2b7fd54fc",
      "style": "IPY_MODEL_b2f96f05be0f49ebb03982fc6de44875",
      "value": true
     }
    },
    "866ce0464e264192adeb7f4c5f3524c5": {
     "model_module": "@jupyter-widgets/base",
     "model_module_version": "1.2.0",
     "model_name": "LayoutModel",
     "state": {
      "_model_module": "@jupyter-widgets/base",
      "_model_module_version": "1.2.0",
      "_model_name": "LayoutModel",
      "_view_count": null,
      "_view_module": "@jupyter-widgets/base",
      "_view_module_version": "1.2.0",
      "_view_name": "LayoutView",
      "align_content": null,
      "align_items": null,
      "align_self": null,
      "border": null,
      "bottom": null,
      "display": null,
      "flex": null,
      "flex_flow": null,
      "grid_area": null,
      "grid_auto_columns": null,
      "grid_auto_flow": null,
      "grid_auto_rows": null,
      "grid_column": null,
      "grid_gap": null,
      "grid_row": null,
      "grid_template_areas": null,
      "grid_template_columns": null,
      "grid_template_rows": null,
      "height": null,
      "justify_content": null,
      "justify_items": null,
      "left": null,
      "margin": null,
      "max_height": null,
      "max_width": null,
      "min_height": null,
      "min_width": null,
      "object_fit": null,
      "object_position": null,
      "order": null,
      "overflow": null,
      "overflow_x": null,
      "overflow_y": null,
      "padding": null,
      "right": null,
      "top": null,
      "visibility": null,
      "width": null
     }
    },
    "9cc2faf7417d440fa094c691ad71e5ea": {
     "model_module": "@jupyter-widgets/base",
     "model_module_version": "1.2.0",
     "model_name": "LayoutModel",
     "state": {
      "_model_module": "@jupyter-widgets/base",
      "_model_module_version": "1.2.0",
      "_model_name": "LayoutModel",
      "_view_count": null,
      "_view_module": "@jupyter-widgets/base",
      "_view_module_version": "1.2.0",
      "_view_name": "LayoutView",
      "align_content": null,
      "align_items": null,
      "align_self": null,
      "border": null,
      "bottom": null,
      "display": null,
      "flex": null,
      "flex_flow": null,
      "grid_area": null,
      "grid_auto_columns": null,
      "grid_auto_flow": null,
      "grid_auto_rows": null,
      "grid_column": null,
      "grid_gap": null,
      "grid_row": null,
      "grid_template_areas": null,
      "grid_template_columns": null,
      "grid_template_rows": null,
      "height": null,
      "justify_content": null,
      "justify_items": null,
      "left": null,
      "margin": null,
      "max_height": null,
      "max_width": null,
      "min_height": null,
      "min_width": null,
      "object_fit": null,
      "object_position": null,
      "order": null,
      "overflow": null,
      "overflow_x": null,
      "overflow_y": null,
      "padding": null,
      "right": null,
      "top": null,
      "visibility": null,
      "width": null
     }
    },
    "a29c6e2648c34de29dd9a0a2b7fd54fc": {
     "model_module": "@jupyter-widgets/base",
     "model_module_version": "1.2.0",
     "model_name": "LayoutModel",
     "state": {
      "_model_module": "@jupyter-widgets/base",
      "_model_module_version": "1.2.0",
      "_model_name": "LayoutModel",
      "_view_count": null,
      "_view_module": "@jupyter-widgets/base",
      "_view_module_version": "1.2.0",
      "_view_name": "LayoutView",
      "align_content": null,
      "align_items": null,
      "align_self": null,
      "border": null,
      "bottom": null,
      "display": null,
      "flex": null,
      "flex_flow": null,
      "grid_area": null,
      "grid_auto_columns": null,
      "grid_auto_flow": null,
      "grid_auto_rows": null,
      "grid_column": null,
      "grid_gap": null,
      "grid_row": null,
      "grid_template_areas": null,
      "grid_template_columns": null,
      "grid_template_rows": null,
      "height": null,
      "justify_content": null,
      "justify_items": null,
      "left": null,
      "margin": null,
      "max_height": null,
      "max_width": null,
      "min_height": null,
      "min_width": null,
      "object_fit": null,
      "object_position": null,
      "order": null,
      "overflow": null,
      "overflow_x": null,
      "overflow_y": null,
      "padding": null,
      "right": null,
      "top": null,
      "visibility": null,
      "width": null
     }
    },
    "b2f96f05be0f49ebb03982fc6de44875": {
     "model_module": "@jupyter-widgets/controls",
     "model_module_version": "1.5.0",
     "model_name": "DescriptionStyleModel",
     "state": {
      "_model_module": "@jupyter-widgets/controls",
      "_model_module_version": "1.5.0",
      "_model_name": "DescriptionStyleModel",
      "_view_count": null,
      "_view_module": "@jupyter-widgets/base",
      "_view_module_version": "1.2.0",
      "_view_name": "StyleView",
      "description_width": ""
     }
    },
    "c9e84b7468264c9d824579e26ba6b74f": {
     "model_module": "@jupyter-widgets/base",
     "model_module_version": "1.2.0",
     "model_name": "LayoutModel",
     "state": {
      "_model_module": "@jupyter-widgets/base",
      "_model_module_version": "1.2.0",
      "_model_name": "LayoutModel",
      "_view_count": null,
      "_view_module": "@jupyter-widgets/base",
      "_view_module_version": "1.2.0",
      "_view_name": "LayoutView",
      "align_content": null,
      "align_items": null,
      "align_self": null,
      "border": null,
      "bottom": null,
      "display": null,
      "flex": null,
      "flex_flow": null,
      "grid_area": null,
      "grid_auto_columns": null,
      "grid_auto_flow": null,
      "grid_auto_rows": null,
      "grid_column": null,
      "grid_gap": null,
      "grid_row": null,
      "grid_template_areas": null,
      "grid_template_columns": null,
      "grid_template_rows": null,
      "height": null,
      "justify_content": null,
      "justify_items": null,
      "left": null,
      "margin": null,
      "max_height": null,
      "max_width": null,
      "min_height": null,
      "min_width": null,
      "object_fit": null,
      "object_position": null,
      "order": null,
      "overflow": null,
      "overflow_x": null,
      "overflow_y": null,
      "padding": null,
      "right": null,
      "top": null,
      "visibility": null,
      "width": null
     }
    },
    "ece494bf7d604a7e872f8342bce8846c": {
     "model_module": "@jupyter-widgets/controls",
     "model_module_version": "1.5.0",
     "model_name": "VBoxModel",
     "state": {
      "_dom_classes": [
       "widget-interact"
      ],
      "_model_module": "@jupyter-widgets/controls",
      "_model_module_version": "1.5.0",
      "_model_name": "VBoxModel",
      "_view_count": null,
      "_view_module": "@jupyter-widgets/controls",
      "_view_module_version": "1.5.0",
      "_view_name": "VBoxView",
      "box_style": "",
      "children": [
       "IPY_MODEL_723edc5361e84c0b85a5ab00f96e09e9",
       "IPY_MODEL_316bdd0f0e7e4378ac4a48a7cce18cd0"
      ],
      "layout": "IPY_MODEL_866ce0464e264192adeb7f4c5f3524c5"
     }
    },
    "f1f4bda0f59a44f58f12e557f19de9cc": {
     "model_module": "@jupyter-widgets/output",
     "model_module_version": "1.0.0",
     "model_name": "OutputModel",
     "state": {
      "_dom_classes": [],
      "_model_module": "@jupyter-widgets/output",
      "_model_module_version": "1.0.0",
      "_model_name": "OutputModel",
      "_view_count": null,
      "_view_module": "@jupyter-widgets/output",
      "_view_module_version": "1.0.0",
      "_view_name": "OutputView",
      "layout": "IPY_MODEL_c9e84b7468264c9d824579e26ba6b74f",
      "msg_id": "",
      "outputs": [
       {
        "data": {
         "text/latex": "$\\displaystyle \\Delta R=-28.548$",
         "text/plain": "<IPython.core.display.Math object>"
        },
        "metadata": {},
        "output_type": "display_data"
       }
      ]
     }
    }
   }
  }
 },
 "nbformat": 4,
 "nbformat_minor": 4
}
